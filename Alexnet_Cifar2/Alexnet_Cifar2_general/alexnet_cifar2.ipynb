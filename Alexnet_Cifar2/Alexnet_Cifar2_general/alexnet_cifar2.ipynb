{
  "metadata": {
    "colab": {
      "provenance": [],
      "gpuType": "T4"
    },
    "kernelspec": {
      "name": "python3",
      "display_name": "Python 3",
      "language": "python"
    },
    "language_info": {
      "name": "python",
      "version": "3.10.12",
      "mimetype": "text/x-python",
      "codemirror_mode": {
        "name": "ipython",
        "version": 3
      },
      "pygments_lexer": "ipython3",
      "nbconvert_exporter": "python",
      "file_extension": ".py"
    },
    "accelerator": "GPU",
    "kaggle": {
      "accelerator": "nvidiaTeslaT4",
      "dataSources": [],
      "dockerImageVersionId": 30626,
      "isInternetEnabled": true,
      "language": "python",
      "sourceType": "notebook",
      "isGpuEnabled": true
    }
  },
  "nbformat_minor": 0,
  "nbformat": 4,
  "cells": [
    {
      "cell_type": "markdown",
      "source": [
        "<div dir=\"rtl\" style=\"text-align: justify\"><font face=\"B Nazanin\" size=4>\n",
        "توضیحات : در این سوال هدف ترین کردن مدلی برای تشخیص دو کلاس از Cifr10 با استفاده از مدل ترین شده alexnet است.\n",
        "<br>"
      ],
      "metadata": {
        "id": "f-SKF8sVSOgz"
      }
    },
    {
      "cell_type": "markdown",
      "source": [
        "<div dir=\"rtl\" style=\"text-align: justify\"><font face=\"B Nazanin\" size=4>\n",
        "در این قسمت ابتدا دیتاست Cifar10 دانلود شده مورد استفاده قرار می گیرد.\n",
        "دیتالودر موردنظر روی دو کلاس موردنظر ساخته و ترنسفورم روی آن اعمال می شود.\n",
        "<br>"
      ],
      "metadata": {
        "id": "33fDtd_tT2gV"
      }
    },
    {
      "cell_type": "code",
      "source": [
        "import torch\n",
        "import torchvision.datasets as dsets\n",
        "import torchvision.transforms as transforms\n",
        "\n",
        "transform = transforms.Compose([\n",
        "    transforms.Resize(256),\n",
        "    transforms.ToTensor(),\n",
        "    transforms.Normalize((0.5, 0.5, 0.5), (0.5, 0.5, 0.5))\n",
        "])\n",
        "\n",
        "train_dataset = dsets.CIFAR10(root='./data', train=True, download=True, transform=transform)\n",
        "test_dataset = dsets.CIFAR10(root='./data', train=False, download=True, transform=transform)\n",
        "\n",
        "selected_classes = [0, 1]\n",
        "train_filtered_indices = [i for i in range(len(train_dataset)) if train_dataset.targets[i] in selected_classes]\n",
        "test_filtered_indices = [i for i in range(len(test_dataset)) if test_dataset.targets[i] in selected_classes]\n",
        "\n",
        "subset_train_dataset = torch.utils.data.Subset(train_dataset, train_filtered_indices)\n",
        "subset_test_dataset = torch.utils.data.Subset(test_dataset, test_filtered_indices)\n",
        "print(len(subset_train_dataset))\n",
        "print(len(subset_test_dataset))\n"
      ],
      "metadata": {
        "colab": {
          "base_uri": "https://localhost:8080/"
        },
        "id": "uaJg3Ih0N7B3",
        "outputId": "f73353da-d81e-4de2-c9ae-b3bea9004357",
        "execution": {
          "iopub.status.busy": "2023-12-23T11:54:16.554463Z",
          "iopub.execute_input": "2023-12-23T11:54:16.555349Z",
          "iopub.status.idle": "2023-12-23T11:54:22.057759Z",
          "shell.execute_reply.started": "2023-12-23T11:54:16.555315Z",
          "shell.execute_reply": "2023-12-23T11:54:22.056858Z"
        },
        "trusted": true
      },
      "execution_count": null,
      "outputs": [
        {
          "name": "stdout",
          "text": "Files already downloaded and verified\nFiles already downloaded and verified\n10000\n2000\n",
          "output_type": "stream"
        }
      ]
    },
    {
      "cell_type": "markdown",
      "source": [],
      "metadata": {
        "id": "bTWoB1YXUaKn"
      }
    },
    {
      "cell_type": "code",
      "source": [
        "expected_labels = {0 : 0 , 1: 1}\n",
        "labels = [expected_labels[label] for label in train_dataset.targets if label in expected_labels]\n",
        "print((labels[0:10]))"
      ],
      "metadata": {
        "colab": {
          "base_uri": "https://localhost:8080/"
        },
        "id": "yoEBuxkBOkAW",
        "outputId": "66e5cb0a-355f-48fe-9491-e6274247d529",
        "execution": {
          "iopub.status.busy": "2023-12-23T11:54:27.077220Z",
          "iopub.execute_input": "2023-12-23T11:54:27.077699Z",
          "iopub.status.idle": "2023-12-23T11:54:27.086899Z",
          "shell.execute_reply.started": "2023-12-23T11:54:27.077668Z",
          "shell.execute_reply": "2023-12-23T11:54:27.085997Z"
        },
        "trusted": true
      },
      "execution_count": null,
      "outputs": [
        {
          "name": "stdout",
          "text": "[1, 1, 0, 0, 1, 0, 1, 1, 1, 0]\n",
          "output_type": "stream"
        }
      ]
    },
    {
      "cell_type": "markdown",
      "source": [
        "<div dir=\"rtl\" style=\"text-align: justify\"><font face=\"B Nazanin\" size=4>\n",
        "در این قسمت تابعی چهت ترین کردن مدل نوشته می شود.\n",
        "روند تابع به شکل کلی به این صورت است که نتایج واقعی و حاصل از مدل مقایسه شده و با استفاده از تابع لاس موردنظر وزن ها به تدریج برحسب lr موردنظر آپدیت می شوند.\n",
        "در انتها نتایج روی داده های تست نیز گزارش می شود.\n",
        "<br>"
      ],
      "metadata": {
        "id": "MDa_VNNEUfW4"
      }
    },
    {
      "cell_type": "code",
      "source": [
        "from tqdm import tqdm\n",
        "\n",
        "def train(model, train_loader, test_loader, criterion, optimizer, num_epochs=10, device=\"cpu\"):\n",
        "    model.to(device)\n",
        "    train_acc = []\n",
        "    loss_list = []\n",
        "    test_acc = []\n",
        "\n",
        "    for epoch in range(num_epochs):\n",
        "        model.train()\n",
        "        total_loss = 0.0\n",
        "        correct_train = 0\n",
        "        total_train = 0\n",
        "\n",
        "        for images, labels in tqdm(train_loader):\n",
        "            images, labels = images.to(device), labels.to(device)\n",
        "\n",
        "            optimizer.zero_grad()\n",
        "            outputs = model(images)\n",
        "            loss = criterion(outputs, labels)\n",
        "            loss.backward()\n",
        "            optimizer.step()\n",
        "\n",
        "            total_loss += loss.item()\n",
        "\n",
        "            _, predicted = torch.max(outputs.data, 1)\n",
        "            total_train += labels.size(0)\n",
        "            correct_train += (predicted == labels).sum().item()\n",
        "\n",
        "        average_loss = total_loss / len(train_loader)\n",
        "        train_accuracy = correct_train / total_train\n",
        "        train_acc.append(train_accuracy)\n",
        "        # Validation\n",
        "        model.eval()\n",
        "        correct_val = 0\n",
        "        total_val = 0\n",
        "\n",
        "        with torch.no_grad():\n",
        "            for images, labels in tqdm(test_loader):\n",
        "                images, labels = images.to(device), labels.to(device)\n",
        "                outputs = model(images)\n",
        "\n",
        "                _, predicted = torch.max(outputs.data, 1)\n",
        "                total_val += labels.size(0)\n",
        "                correct_val += (predicted == labels).sum().item()\n",
        "\n",
        "        test_accuracy = correct_val / total_val\n",
        "        test_acc.append(test_accuracy)\n",
        "        loss_list.append(average_loss)\n",
        "\n",
        "        print(f'Epoch [{epoch + 1}/{num_epochs}], '\n",
        "              f'Training Loss: {average_loss:.4f}, '\n",
        "              f'Training Accuracy: {train_accuracy:.4f}, '\n",
        "              f'Validation Accuracy: {test_accuracy:.4f}')\n",
        "\n",
        "    return train_acc, test_acc, loss_list"
      ],
      "metadata": {
        "id": "uWG31-7OOvlI",
        "execution": {
          "iopub.status.busy": "2023-12-23T11:54:30.126031Z",
          "iopub.execute_input": "2023-12-23T11:54:30.126389Z",
          "iopub.status.idle": "2023-12-23T11:54:30.138807Z",
          "shell.execute_reply.started": "2023-12-23T11:54:30.126357Z",
          "shell.execute_reply": "2023-12-23T11:54:30.137784Z"
        },
        "trusted": true
      },
      "execution_count": null,
      "outputs": []
    },
    {
      "cell_type": "markdown",
      "source": [
        "<div dir=\"rtl\" style=\"text-align: justify\"><font face=\"B Nazanin\" size=4>\n",
        "در این قسمت ابتدا مدل alexnet فراخوانی شده و لایه آخر آن به 2 کلاس خروجی تغییر می یابد.\n",
        "<br>"
      ],
      "metadata": {
        "id": "Ar8cYGiOVFfm"
      }
    },
    {
      "cell_type": "code",
      "source": [
        "import torch.nn as nn\n",
        "import torchvision.models as models\n",
        "\n",
        "alexnet = models.alexnet(pretrained=True)\n",
        "\n",
        "num_classes_cifar = 2\n",
        "alexnet.classifier[-1] = nn.Linear(4096, num_classes_cifar)\n",
        "\n",
        "print(alexnet)"
      ],
      "metadata": {
        "colab": {
          "base_uri": "https://localhost:8080/"
        },
        "id": "xISEWfHuOw2N",
        "outputId": "e922159e-6fd8-451c-ca95-7e0e8bdee70d",
        "execution": {
          "iopub.status.busy": "2023-12-23T12:00:08.741544Z",
          "iopub.execute_input": "2023-12-23T12:00:08.742741Z",
          "iopub.status.idle": "2023-12-23T12:00:09.467298Z",
          "shell.execute_reply.started": "2023-12-23T12:00:08.742705Z",
          "shell.execute_reply": "2023-12-23T12:00:09.466371Z"
        },
        "trusted": true
      },
      "execution_count": null,
      "outputs": [
        {
          "name": "stdout",
          "text": "AlexNet(\n  (features): Sequential(\n    (0): Conv2d(3, 64, kernel_size=(11, 11), stride=(4, 4), padding=(2, 2))\n    (1): ReLU(inplace=True)\n    (2): MaxPool2d(kernel_size=3, stride=2, padding=0, dilation=1, ceil_mode=False)\n    (3): Conv2d(64, 192, kernel_size=(5, 5), stride=(1, 1), padding=(2, 2))\n    (4): ReLU(inplace=True)\n    (5): MaxPool2d(kernel_size=3, stride=2, padding=0, dilation=1, ceil_mode=False)\n    (6): Conv2d(192, 384, kernel_size=(3, 3), stride=(1, 1), padding=(1, 1))\n    (7): ReLU(inplace=True)\n    (8): Conv2d(384, 256, kernel_size=(3, 3), stride=(1, 1), padding=(1, 1))\n    (9): ReLU(inplace=True)\n    (10): Conv2d(256, 256, kernel_size=(3, 3), stride=(1, 1), padding=(1, 1))\n    (11): ReLU(inplace=True)\n    (12): MaxPool2d(kernel_size=3, stride=2, padding=0, dilation=1, ceil_mode=False)\n  )\n  (avgpool): AdaptiveAvgPool2d(output_size=(6, 6))\n  (classifier): Sequential(\n    (0): Dropout(p=0.5, inplace=False)\n    (1): Linear(in_features=9216, out_features=4096, bias=True)\n    (2): ReLU(inplace=True)\n    (3): Dropout(p=0.5, inplace=False)\n    (4): Linear(in_features=4096, out_features=4096, bias=True)\n    (5): ReLU(inplace=True)\n    (6): Linear(in_features=4096, out_features=2, bias=True)\n  )\n)\n",
          "output_type": "stream"
        }
      ]
    },
    {
      "cell_type": "markdown",
      "source": [
        "<div dir=\"rtl\" style=\"text-align: justify\"><font face=\"B Nazanin\" size=4>\n",
        "نهایتا توابع لاس و بهینه ساز انتخاب شده و نتایج train acc , test acc گزارش می شود.\n",
        "ذیل ، val acc همان نتایج روی داده تست است.\n",
        "<br>"
      ],
      "metadata": {
        "id": "Hm--v3rJVOYd"
      }
    },
    {
      "cell_type": "code",
      "source": [
        "from torch.utils.data import DataLoader\n",
        "import torch.optim as optim\n",
        "import torch.nn as nn\n",
        "\n",
        "train_loader = DataLoader(subset_train_dataset, batch_size=128, shuffle=True)\n",
        "test_loader = DataLoader(subset_test_dataset, batch_size=128, shuffle=False)\n",
        "\n",
        "device = 'cuda' if torch.cuda.is_available() else 'cpu'\n",
        "print(device)\n",
        "\n",
        "criterion = nn.CrossEntropyLoss()\n",
        "optimizer = optim.SGD(alexnet.parameters(), lr=0.001)\n",
        "\n",
        "tain_acc, val_acc, loss_list = train(alexnet, train_loader, test_loader, criterion, optimizer, num_epochs=10, device = device)"
      ],
      "metadata": {
        "colab": {
          "base_uri": "https://localhost:8080/",
          "height": 356
        },
        "id": "6u6LcbMDOyDG",
        "outputId": "2c11a56e-dab1-463c-bde0-31a538c867e6",
        "execution": {
          "iopub.status.busy": "2023-12-23T12:00:12.664402Z",
          "iopub.execute_input": "2023-12-23T12:00:12.664833Z",
          "iopub.status.idle": "2023-12-23T12:05:18.635136Z",
          "shell.execute_reply.started": "2023-12-23T12:00:12.664798Z",
          "shell.execute_reply": "2023-12-23T12:05:18.634216Z"
        },
        "trusted": true
      },
      "execution_count": null,
      "outputs": [
        {
          "name": "stdout",
          "text": "cuda\n",
          "output_type": "stream"
        },
        {
          "name": "stderr",
          "text": "100%|██████████| 79/79 [00:27<00:00,  2.91it/s]\n100%|██████████| 16/16 [00:04<00:00,  3.73it/s]\n",
          "output_type": "stream"
        },
        {
          "name": "stdout",
          "text": "Epoch [1/10], Training Loss: 0.3200, Training Accuracy: 0.8797, Validation Accuracy: 0.9375\n",
          "output_type": "stream"
        },
        {
          "name": "stderr",
          "text": "100%|██████████| 79/79 [00:25<00:00,  3.05it/s]\n100%|██████████| 16/16 [00:04<00:00,  3.67it/s]\n",
          "output_type": "stream"
        },
        {
          "name": "stdout",
          "text": "Epoch [2/10], Training Loss: 0.1663, Training Accuracy: 0.9401, Validation Accuracy: 0.9525\n",
          "output_type": "stream"
        },
        {
          "name": "stderr",
          "text": "100%|██████████| 79/79 [00:25<00:00,  3.04it/s]\n100%|██████████| 16/16 [00:04<00:00,  3.70it/s]\n",
          "output_type": "stream"
        },
        {
          "name": "stdout",
          "text": "Epoch [3/10], Training Loss: 0.1360, Training Accuracy: 0.9508, Validation Accuracy: 0.9585\n",
          "output_type": "stream"
        },
        {
          "name": "stderr",
          "text": "100%|██████████| 79/79 [00:26<00:00,  3.04it/s]\n100%|██████████| 16/16 [00:04<00:00,  3.73it/s]\n",
          "output_type": "stream"
        },
        {
          "name": "stdout",
          "text": "Epoch [4/10], Training Loss: 0.1186, Training Accuracy: 0.9569, Validation Accuracy: 0.9610\n",
          "output_type": "stream"
        },
        {
          "name": "stderr",
          "text": "100%|██████████| 79/79 [00:25<00:00,  3.04it/s]\n100%|██████████| 16/16 [00:04<00:00,  3.71it/s]\n",
          "output_type": "stream"
        },
        {
          "name": "stdout",
          "text": "Epoch [5/10], Training Loss: 0.1091, Training Accuracy: 0.9603, Validation Accuracy: 0.9585\n",
          "output_type": "stream"
        },
        {
          "name": "stderr",
          "text": "100%|██████████| 79/79 [00:26<00:00,  3.03it/s]\n100%|██████████| 16/16 [00:04<00:00,  3.69it/s]\n",
          "output_type": "stream"
        },
        {
          "name": "stdout",
          "text": "Epoch [6/10], Training Loss: 0.1007, Training Accuracy: 0.9634, Validation Accuracy: 0.9475\n",
          "output_type": "stream"
        },
        {
          "name": "stderr",
          "text": "100%|██████████| 79/79 [00:26<00:00,  2.99it/s]\n100%|██████████| 16/16 [00:04<00:00,  3.67it/s]\n",
          "output_type": "stream"
        },
        {
          "name": "stdout",
          "text": "Epoch [7/10], Training Loss: 0.0905, Training Accuracy: 0.9682, Validation Accuracy: 0.9690\n",
          "output_type": "stream"
        },
        {
          "name": "stderr",
          "text": "100%|██████████| 79/79 [00:26<00:00,  2.98it/s]\n100%|██████████| 16/16 [00:04<00:00,  3.67it/s]\n",
          "output_type": "stream"
        },
        {
          "name": "stdout",
          "text": "Epoch [8/10], Training Loss: 0.0858, Training Accuracy: 0.9683, Validation Accuracy: 0.9710\n",
          "output_type": "stream"
        },
        {
          "name": "stderr",
          "text": "100%|██████████| 79/79 [00:26<00:00,  3.02it/s]\n100%|██████████| 16/16 [00:04<00:00,  3.70it/s]\n",
          "output_type": "stream"
        },
        {
          "name": "stdout",
          "text": "Epoch [9/10], Training Loss: 0.0837, Training Accuracy: 0.9698, Validation Accuracy: 0.9640\n",
          "output_type": "stream"
        },
        {
          "name": "stderr",
          "text": "100%|██████████| 79/79 [00:26<00:00,  3.01it/s]\n100%|██████████| 16/16 [00:04<00:00,  3.65it/s]",
          "output_type": "stream"
        },
        {
          "name": "stdout",
          "text": "Epoch [10/10], Training Loss: 0.0812, Training Accuracy: 0.9701, Validation Accuracy: 0.9630\n",
          "output_type": "stream"
        },
        {
          "name": "stderr",
          "text": "\n",
          "output_type": "stream"
        }
      ]
    },
    {
      "cell_type": "markdown",
      "source": [
        "<div dir=\"rtl\" style=\"text-align: justify\"><font face=\"B Nazanin\" size=5>\n",
        "رسم نمودار دقت ترین\n",
        "<br>\n",
        "رسم نمودار لاس\n",
        "<br>\n",
        "رسم نمودار دقت تست\n",
        "<br>\n"
      ],
      "metadata": {
        "id": "u3hLMPQ5VdU-"
      }
    },
    {
      "cell_type": "code",
      "source": [
        "import matplotlib.pyplot as plt\n",
        "\n",
        "fig, ax1 = plt.subplots()\n",
        "\n",
        "color = 'tab:red'\n",
        "ax1.set_xlabel('Epoch')\n",
        "ax1.set_ylabel('Accuracy', color=color)\n",
        "ax1.plot(tain_acc, label='Train Accuracy', color=color)\n",
        "ax1.plot(val_acc, label='Validation Accuracy', linestyle='dashed', color=color)\n",
        "ax1.tick_params(axis='y', labelcolor=color)\n",
        "ax1.legend(loc='upper left')\n",
        "\n",
        "ax2 = ax1.twinx()\n",
        "color = 'tab:blue'\n",
        "ax2.set_ylabel('Loss', color=color)\n",
        "ax2.plot(loss_list, label='Loss', color=color)\n",
        "ax2.tick_params(axis='y', labelcolor=color)\n",
        "ax2.legend(loc='upper right')\n",
        "\n",
        "fig.tight_layout()\n",
        "plt.title('Training Accuracy, Validation Accuracy, and Loss Over Epochs')\n",
        "plt.show()\n"
      ],
      "metadata": {
        "colab": {
          "base_uri": "https://localhost:8080/",
          "height": 684
        },
        "id": "X3Z5cJNGOzbY",
        "outputId": "0c2f3365-2007-429f-d463-5558e252726d",
        "execution": {
          "iopub.status.busy": "2023-12-23T12:09:37.656487Z",
          "iopub.execute_input": "2023-12-23T12:09:37.657361Z",
          "iopub.status.idle": "2023-12-23T12:09:38.356899Z",
          "shell.execute_reply.started": "2023-12-23T12:09:37.657309Z",
          "shell.execute_reply": "2023-12-23T12:09:38.356072Z"
        },
        "trusted": true
      },
      "execution_count": null,
      "outputs": [
        {
          "output_type": "display_data",
          "data": {
            "text/plain": "<Figure size 640x480 with 2 Axes>",
            "image/png": "[encoded data removed]"
          },
          "metadata": {}
        }
      ]
    }
  ]
}