{
  "nbformat": 4,
  "nbformat_minor": 0,
  "metadata": {
    "colab": {
      "provenance": [],
      "gpuType": "T4"
    },
    "kernelspec": {
      "name": "python3",
      "display_name": "Python 3"
    },
    "language_info": {
      "name": "python"
    },
    "accelerator": "GPU"
  },
  "cells": [
    {
      "cell_type": "markdown",
      "source": [
        "<div dir=\"rtl\" style=\"text-align: justify\"><font face=\"B Nazanin\" size=4>\n",
        "توضیحات همان نکات مربوط به آموزش مدل برای Cifar2 با استفاده از alexnet است.\n",
        "تنها تفاوت در این قسمت تمرین استفاده از triplet loss جهت آموزش یک featrue extractor خوب است.\n",
        "<br>"
      ],
      "metadata": {
        "id": "VxQOcPb7WCT-"
      }
    },
    {
      "cell_type": "code",
      "execution_count": null,
      "metadata": {
        "id": "SsELyD0XhUtE"
      },
      "outputs": [],
      "source": [
        "import torch\n",
        "import torchvision.datasets as dsets\n",
        "import torchvision.transforms as transforms\n",
        "from torch.utils.data import Dataset, DataLoader\n",
        "import torch.optim as optim\n",
        "import torch.nn as nn\n",
        "import torchvision.models as models\n",
        "import numpy as np\n",
        "import matplotlib.pyplot as plt\n",
        "import torch.nn.functional as F\n",
        "\n"
      ]
    },
    {
      "cell_type": "code",
      "source": [
        "transform = transforms.Compose([\n",
        "    transforms.Resize(256),\n",
        "    transforms.ToTensor(),\n",
        "    transforms.Normalize((0.5, 0.5, 0.5), (0.5, 0.5, 0.5))\n",
        "])\n",
        "\n",
        "train_dataset = dsets.CIFAR10(root='./data', train=True, download=True, transform=transform)\n",
        "test_dataset = dsets.CIFAR10(root='./data', train=False, download=True, transform=transform)\n",
        "\n",
        "selected_classes = [0, 1]\n",
        "train_filtered_indices = [i for i in range(len(train_dataset)) if train_dataset.targets[i] in selected_classes]\n",
        "test_filtered_indices = [i for i in range(len(test_dataset)) if test_dataset.targets[i] in selected_classes]\n",
        "\n",
        "subset_train_dataset = torch.utils.data.Subset(train_dataset, train_filtered_indices)\n",
        "subset_test_dataset = torch.utils.data.Subset(test_dataset, test_filtered_indices)\n",
        "\n",
        "print(len(subset_train_dataset))\n",
        "print(len(subset_test_dataset))"
      ],
      "metadata": {
        "colab": {
          "base_uri": "https://localhost:8080/"
        },
        "id": "Qa3bGXdViPv5",
        "outputId": "05870ba2-c611-4263-9de9-3bafeed77aec"
      },
      "execution_count": null,
      "outputs": [
        {
          "output_type": "stream",
          "name": "stdout",
          "text": [
            "Downloading https://www.cs.toronto.edu/~kriz/cifar-10-python.tar.gz to ./data/cifar-10-python.tar.gz\n"
          ]
        },
        {
          "output_type": "stream",
          "name": "stderr",
          "text": [
            "100%|██████████| 170498071/170498071 [00:04<00:00, 42035526.85it/s]\n"
          ]
        },
        {
          "output_type": "stream",
          "name": "stdout",
          "text": [
            "Extracting ./data/cifar-10-python.tar.gz to ./data\n",
            "Files already downloaded and verified\n",
            "10000\n",
            "2000\n"
          ]
        }
      ]
    },
    {
      "cell_type": "markdown",
      "source": [
        "<div dir=\"rtl\" style=\"text-align: justify\"><font face=\"B Nazanin\" size=4>\n",
        "این کلاس \"TripletDataset\" برای ساخت یک مجموعه داده از سه‌تایی‌ها (Triplet) بر اساس یک مجموعه دادهٔ پایه ایجاد شده است. هر سه‌تایی شامل سه نمونه از مجموعه داده است:\n",
        "\n",
        "1. \"Anchor\": یک نمونه انتخاب شده به عنوان نقطهٔ مرجع.\n",
        "2. \"Positive\": یک نمونه انتخاب شده از همان دستهٔ برچسبی که \"Anchor\" از آن انتخاب شده است.\n",
        "3. \"Negative\": یک نمونه انتخاب شده از یک دستهٔ برچسبی متفاوت از \"Anchor\".\n",
        "\n",
        "در واقعیت، این کلاس تصادفی یک نمونه \"Anchor\" را انتخاب کرده و سپس یک نمونه \"Positive\" از همان دستهٔ برچسبی که \"Anchor\" انتخاب شده است و یک نمونه \"Negative\" از یک دستهٔ برچسبی متفاوت انتخاب می‌کند. این عملیات به تناوب برای تمام نمونه‌های موجود در مجموعه داده اجرا می‌شود.\n",
        "پ\n",
        "<br>"
      ],
      "metadata": {
        "id": "HK0Ayqw6XYZn"
      }
    },
    {
      "cell_type": "code",
      "source": [
        "class TripletDataset(Dataset):\n",
        "    def __init__(self, base_dataset):\n",
        "        self.base_dataset = base_dataset\n",
        "        self.labels = np.array(self.base_dataset.dataset.targets)\n",
        "        self.label_to_indices = {label: np.where(self.labels == label)[0] for label in self.labels}\n",
        "\n",
        "    def __getitem__(self, index):\n",
        "        target = np.random.choice(self.labels)\n",
        "        positive_index = index\n",
        "        while positive_index == index:\n",
        "            positive_index = np.random.choice(self.label_to_indices[target])\n",
        "        negative_target = np.random.choice(list(set(self.labels) - {target}))\n",
        "        negative_index = np.random.choice(self.label_to_indices[negative_target])\n",
        "        anchor = self.base_dataset.dataset[index][0]\n",
        "        positive = self.base_dataset.dataset[positive_index][0]\n",
        "        negative = self.base_dataset.dataset[negative_index][0]\n",
        "        return anchor, positive, negative\n",
        "\n",
        "    def __len__(self):\n",
        "        return len(self.base_dataset)"
      ],
      "metadata": {
        "id": "lZbUHTvghvpg"
      },
      "execution_count": null,
      "outputs": []
    },
    {
      "cell_type": "code",
      "source": [
        "device = torch.device(\"cuda\" if torch.cuda.is_available() else \"cpu\")\n",
        "torch.manual_seed(42)\n",
        "print(device)"
      ],
      "metadata": {
        "colab": {
          "base_uri": "https://localhost:8080/"
        },
        "id": "I3Cj1wKEiG-L",
        "outputId": "0daf64d4-b06a-4131-efed-5c488801ae8b"
      },
      "execution_count": null,
      "outputs": [
        {
          "output_type": "stream",
          "name": "stdout",
          "text": [
            "cuda\n"
          ]
        }
      ]
    },
    {
      "cell_type": "markdown",
      "source": [
        "<div dir=\"rtl\" style=\"text-align: justify\"><font face=\"B Nazanin\" size=4>\n",
        "در این قسمت تابعی چهت ترین کردن مدل نوشته می شود.\n",
        "روند تابع به شکل کلی به این صورت است که نتایج واقعی و حاصل از مدل مقایسه شده و با استفاده از تابع لاس موردنظر وزن ها به تدریج برحسب lr موردنظر آپدیت می شوند.\n",
        "در انتها نتایج روی داده های تست نیز گزارش می شود.\n",
        "<br>"
      ],
      "metadata": {
        "id": "Xa-aH6GmX6vC"
      }
    },
    {
      "cell_type": "code",
      "source": [
        "from tqdm import tqdm\n",
        "\n",
        "def train(model, train_loader, test_loader, criterion, optimizer, num_epochs=10):\n",
        "    model.to(device)\n",
        "    val_acc = []\n",
        "    train_acc = []\n",
        "    accuracy_list = []\n",
        "    loss_list = []\n",
        "\n",
        "    for epoch in range(num_epochs):\n",
        "        model.train()\n",
        "        total_loss = 0.0\n",
        "        correct_train = 0\n",
        "        total_train = 0\n",
        "\n",
        "        for images, labels in tqdm(train_loader, desc=f'Epoch {epoch + 1}/{num_epochs} - Training'):\n",
        "            images, labels = images.to(device), labels.to(device)\n",
        "\n",
        "            optimizer.zero_grad()\n",
        "            outputs = model(images)\n",
        "            loss = criterion(outputs, labels)\n",
        "            loss.backward()\n",
        "            optimizer.step()\n",
        "\n",
        "            total_loss += loss.item()\n",
        "\n",
        "            _, predicted = torch.max(outputs.data, 1)\n",
        "            total_train += labels.size(0)\n",
        "            correct_train += (predicted == labels).sum().item()\n",
        "\n",
        "        average_loss = total_loss / len(train_loader)\n",
        "        train_accuracy = correct_train / total_train\n",
        "        train_acc.append(train_accuracy)\n",
        "\n",
        "        # Validation\n",
        "        model.eval()\n",
        "        correct_val = 0\n",
        "        total_val = 0\n",
        "\n",
        "        with torch.no_grad():\n",
        "            for images, labels in test_loader:\n",
        "                images, labels = images.to(device), labels.to(device)\n",
        "                outputs = model(images)\n",
        "\n",
        "                _, predicted = torch.max(outputs.data, 1)\n",
        "                total_val += labels.size(0)\n",
        "                correct_val += (predicted == labels).sum().item()\n",
        "\n",
        "        val_accuracy = correct_val / total_val\n",
        "        val_acc.append(val_accuracy)\n",
        "        loss_list.append(average_loss)\n",
        "\n",
        "        print(f'Epoch [{epoch + 1}/{num_epochs}], '\n",
        "              f'Training Loss: {average_loss:.4f}, '\n",
        "              f'Training Accuracy: {train_accuracy:.4f}, '\n",
        "              f'Test Accuracy: {val_accuracy:.4f}')\n",
        "\n",
        "    return val_acc, train_acc, loss_list"
      ],
      "metadata": {
        "id": "5b9TGW2Hj8DB"
      },
      "execution_count": null,
      "outputs": []
    },
    {
      "cell_type": "markdown",
      "source": [
        "<div dir=\"rtl\" style=\"text-align: justify\"><font face=\"B Nazanin\" size=4>\n",
        "   - مدل را بر روی دستگاه محاسباتی (مثل GPU) منتقل می‌کنیم.\n",
        "\n",
        "   - حلقهٔ آموزش بر روی داده‌های آموزش اجرا می‌شود.\n",
        "   - متغیر total_loss برای محاسبه میانگین از دست رفته در هر مرحله از آموزش استفاده می‌شود.\n",
        "   - متغیرهای correct_train و total_train برای محاسبه دقت آموزش مدل به کار می‌روند.\n",
        "   - برای هر سه‌تایی از داده‌های آموزش (anchor، positive و negative)، مدل embedding مربوط به هر یک از آن‌ها را محاسبه می‌کند.\n",
        "   - سپس با استفاده از تابع pairwise_distance، فاصله میانگین میان \"anchor\" و \"positive\" و همچنین \"anchor\" و \"negative\" را محاسبه می‌کند.\n",
        "   - مقدار تابع Triplet Loss برای هر سه‌تایی محاسبه شده و به عنوان اثر منفی بر روی مدل اعمال می‌شود.\n",
        "   - پس از اتمام هر دوره از آموزش، اطلاعاتی مانند میانگین Triplet Loss و دقت آموزش در هر دوره نمایش داده می‌شود.\n",
        "   - اطلاعات آموزش شامل میانگین Triplet Loss و دقت آموزش برای هر دوره در لیست loss_list و accuracy_list ذخیره می‌شوند.\n",
        "<br>"
      ],
      "metadata": {
        "id": "3dZ_IGpFYa5K"
      }
    },
    {
      "cell_type": "code",
      "source": [
        "def train_triplet(model, train_loader, test_loader, criterion, optimizer, num_epochs=10 , margin = 0.2):\n",
        "    model.to(device)\n",
        "\n",
        "    accuracy_list = []\n",
        "    loss_list = []\n",
        "\n",
        "    for epoch in range(num_epochs):\n",
        "        model.train()\n",
        "        total_loss = 0.0\n",
        "        correct_train = 0\n",
        "        total_train = 0\n",
        "\n",
        "        for anchor, positive, negative in tqdm(train_loader, desc=f'Epoch {epoch + 1}/{num_epochs} - TripletTraining'):\n",
        "            anchor, positive, negative = anchor.to(device), positive.to(device), negative.to(device)\n",
        "\n",
        "            optimizer.zero_grad()\n",
        "            embed_anchor = model(anchor)\n",
        "            embed_positive = model(positive)\n",
        "            embed_negative = model(negative)\n",
        "            # Flatten the embeddings before computing pairwise distance\n",
        "            embed_anchor_flat = embed_anchor.view(embed_anchor.size(0), -1)\n",
        "            embed_positive_flat = embed_positive.view(embed_positive.size(0), -1)\n",
        "            embed_negative_flat = embed_negative.view(embed_negative.size(0), -1)\n",
        "\n",
        "            # Compute pairwise distance\n",
        "\n",
        "\n",
        "            # Calculate triplet loss\n",
        "            loss_triplet = criterion(embed_anchor, embed_positive, embed_negative)\n",
        "\n",
        "            loss_triplet.backward()\n",
        "            optimizer.step()\n",
        "\n",
        "            total_loss += loss_triplet.item()\n",
        "            distance_positive = F.pairwise_distance(embed_anchor_flat, embed_positive_flat)\n",
        "            distance_negative = F.pairwise_distance(embed_anchor_flat, embed_negative_flat)\n",
        "            # Calculate training accuracy\n",
        "            correct_train += (distance_positive < distance_negative + margin).sum().item()\n",
        "\n",
        "            total_train += anchor.size(0)\n",
        "            # print('correct_train : ', correct_train)\n",
        "            # print('total_train : ' , total_train)\n",
        "        average_loss = total_loss / len(train_loader)\n",
        "        train_accuracy = correct_train / total_train\n",
        "\n",
        "\n",
        "        loss_list.append(average_loss)\n",
        "\n",
        "        print(f'Epoch [{epoch + 1}/{num_epochs}], '\n",
        "              f'Triplet Loss: {average_loss:.4f}, '\n",
        "              f'Training Accuracy: {train_accuracy:.4f}, ')\n",
        "\n",
        "    return accuracy_list, loss_list\n"
      ],
      "metadata": {
        "id": "morMp7D-h3KP"
      },
      "execution_count": null,
      "outputs": []
    },
    {
      "cell_type": "markdown",
      "source": [
        "<div dir=\"rtl\" style=\"text-align: justify\"><font face=\"B Nazanin\" size=4>\n",
        "در این قسمت دیتاست موردنظر و دیتالوودر آن ساخته می شود.\n",
        "\n",
        "<br>"
      ],
      "metadata": {
        "id": "ylEjnq7AYoXA"
      }
    },
    {
      "cell_type": "code",
      "source": [
        "triplet_train_dataset = TripletDataset(subset_train_dataset)\n",
        "triplet_test_dataset = TripletDataset(subset_test_dataset)\n",
        "\n",
        "triplet_train_loader = DataLoader(triplet_train_dataset, batch_size=128, shuffle=True)\n",
        "triplet_test_loader = DataLoader(triplet_test_dataset, batch_size=128, shuffle=False)\n",
        "\n"
      ],
      "metadata": {
        "id": "sg_8S2hBh5_y"
      },
      "execution_count": null,
      "outputs": []
    },
    {
      "cell_type": "markdown",
      "source": [
        "<div dir=\"rtl\" style=\"text-align: justify\"><font face=\"B Nazanin\" size=4>\n",
        "در این قسمت مدل alexnet فرواخوانی می شود.\n",
        "<br>"
      ],
      "metadata": {
        "id": "jq7cNMjIYx_U"
      }
    },
    {
      "cell_type": "code",
      "source": [
        "alexnet_triplet = models.alexnet(pretrained=True)\n",
        "alexnet_triplet.to(device)\n",
        "\n",
        "\n",
        "print(alexnet_triplet)\n"
      ],
      "metadata": {
        "id": "1xmpRNnOh9r9",
        "colab": {
          "base_uri": "https://localhost:8080/"
        },
        "outputId": "885884a6-2293-4bfc-8aa1-63ff514d6e9c"
      },
      "execution_count": null,
      "outputs": [
        {
          "output_type": "stream",
          "name": "stderr",
          "text": [
            "/usr/local/lib/python3.10/dist-packages/torchvision/models/_utils.py:208: UserWarning: The parameter 'pretrained' is deprecated since 0.13 and may be removed in the future, please use 'weights' instead.\n",
            "  warnings.warn(\n",
            "/usr/local/lib/python3.10/dist-packages/torchvision/models/_utils.py:223: UserWarning: Arguments other than a weight enum or `None` for 'weights' are deprecated since 0.13 and may be removed in the future. The current behavior is equivalent to passing `weights=AlexNet_Weights.IMAGENET1K_V1`. You can also use `weights=AlexNet_Weights.DEFAULT` to get the most up-to-date weights.\n",
            "  warnings.warn(msg)\n"
          ]
        },
        {
          "output_type": "stream",
          "name": "stdout",
          "text": [
            "AlexNet(\n",
            "  (features): Sequential(\n",
            "    (0): Conv2d(3, 64, kernel_size=(11, 11), stride=(4, 4), padding=(2, 2))\n",
            "    (1): ReLU(inplace=True)\n",
            "    (2): MaxPool2d(kernel_size=3, stride=2, padding=0, dilation=1, ceil_mode=False)\n",
            "    (3): Conv2d(64, 192, kernel_size=(5, 5), stride=(1, 1), padding=(2, 2))\n",
            "    (4): ReLU(inplace=True)\n",
            "    (5): MaxPool2d(kernel_size=3, stride=2, padding=0, dilation=1, ceil_mode=False)\n",
            "    (6): Conv2d(192, 384, kernel_size=(3, 3), stride=(1, 1), padding=(1, 1))\n",
            "    (7): ReLU(inplace=True)\n",
            "    (8): Conv2d(384, 256, kernel_size=(3, 3), stride=(1, 1), padding=(1, 1))\n",
            "    (9): ReLU(inplace=True)\n",
            "    (10): Conv2d(256, 256, kernel_size=(3, 3), stride=(1, 1), padding=(1, 1))\n",
            "    (11): ReLU(inplace=True)\n",
            "    (12): MaxPool2d(kernel_size=3, stride=2, padding=0, dilation=1, ceil_mode=False)\n",
            "  )\n",
            "  (avgpool): AdaptiveAvgPool2d(output_size=(6, 6))\n",
            "  (classifier): Sequential(\n",
            "    (0): Dropout(p=0.5, inplace=False)\n",
            "    (1): Linear(in_features=9216, out_features=4096, bias=True)\n",
            "    (2): ReLU(inplace=True)\n",
            "    (3): Dropout(p=0.5, inplace=False)\n",
            "    (4): Linear(in_features=4096, out_features=4096, bias=True)\n",
            "    (5): ReLU(inplace=True)\n",
            "    (6): Linear(in_features=4096, out_features=1000, bias=True)\n",
            "  )\n",
            ")\n"
          ]
        }
      ]
    },
    {
      "cell_type": "markdown",
      "source": [
        "<div dir=\"rtl\" style=\"text-align: justify\"><font face=\"B Nazanin\" size=4>\n",
        "جهت ترین کردن تها قسمت feature از مدل با استفاده از triplet loss قسمت feature مدل انتخاب می شود.\n",
        "ترینینگ روی قسمت استخراج ویژگی ها ( بدون classifier ) ران می شود.\n",
        "<br>"
      ],
      "metadata": {
        "id": "-2IGAGpWY78r"
      }
    },
    {
      "cell_type": "code",
      "source": [
        "triplet_criterion = nn.TripletMarginLoss(margin=0.2)\n",
        "alexnet_features = alexnet_triplet.features\n",
        "\n",
        "triplet_optimizer = optim.SGD(alexnet_features.parameters(), lr=0.1)\n",
        "triplet_acc_list, triplet_loss_list = train_triplet(alexnet_features, triplet_train_loader, triplet_test_loader, triplet_criterion, triplet_optimizer, num_epochs=10)\n"
      ],
      "metadata": {
        "colab": {
          "base_uri": "https://localhost:8080/"
        },
        "id": "UlKH4msmjLp2",
        "outputId": "302d1abf-0766-4e25-fb25-0cbf3a1c2eaa"
      },
      "execution_count": null,
      "outputs": [
        {
          "output_type": "stream",
          "name": "stderr",
          "text": [
            "Epoch 1/10 - TripletTraining: 100%|██████████| 79/79 [02:17<00:00,  1.74s/it]\n"
          ]
        },
        {
          "output_type": "stream",
          "name": "stdout",
          "text": [
            "Epoch [1/10], Triplet Loss: 0.2115, Training Accuracy: 0.5485, \n"
          ]
        },
        {
          "output_type": "stream",
          "name": "stderr",
          "text": [
            "Epoch 2/10 - TripletTraining: 100%|██████████| 79/79 [02:17<00:00,  1.74s/it]\n"
          ]
        },
        {
          "output_type": "stream",
          "name": "stdout",
          "text": [
            "Epoch [2/10], Triplet Loss: 0.2014, Training Accuracy: 0.6000, \n"
          ]
        },
        {
          "output_type": "stream",
          "name": "stderr",
          "text": [
            "Epoch 3/10 - TripletTraining: 100%|██████████| 79/79 [02:16<00:00,  1.73s/it]\n"
          ]
        },
        {
          "output_type": "stream",
          "name": "stdout",
          "text": [
            "Epoch [3/10], Triplet Loss: 0.2008, Training Accuracy: 0.6270, \n"
          ]
        },
        {
          "output_type": "stream",
          "name": "stderr",
          "text": [
            "Epoch 4/10 - TripletTraining: 100%|██████████| 79/79 [02:15<00:00,  1.72s/it]\n"
          ]
        },
        {
          "output_type": "stream",
          "name": "stdout",
          "text": [
            "Epoch [4/10], Triplet Loss: 0.2005, Training Accuracy: 0.6486, \n"
          ]
        },
        {
          "output_type": "stream",
          "name": "stderr",
          "text": [
            "Epoch 5/10 - TripletTraining: 100%|██████████| 79/79 [02:17<00:00,  1.74s/it]\n"
          ]
        },
        {
          "output_type": "stream",
          "name": "stdout",
          "text": [
            "Epoch [5/10], Triplet Loss: 0.2003, Training Accuracy: 0.6665, \n"
          ]
        },
        {
          "output_type": "stream",
          "name": "stderr",
          "text": [
            "Epoch 6/10 - TripletTraining: 100%|██████████| 79/79 [02:13<00:00,  1.69s/it]\n"
          ]
        },
        {
          "output_type": "stream",
          "name": "stdout",
          "text": [
            "Epoch [6/10], Triplet Loss: 0.2003, Training Accuracy: 0.6847, \n"
          ]
        },
        {
          "output_type": "stream",
          "name": "stderr",
          "text": [
            "Epoch 7/10 - TripletTraining: 100%|██████████| 79/79 [02:14<00:00,  1.70s/it]\n"
          ]
        },
        {
          "output_type": "stream",
          "name": "stdout",
          "text": [
            "Epoch [7/10], Triplet Loss: 0.2002, Training Accuracy: 0.6964, \n"
          ]
        },
        {
          "output_type": "stream",
          "name": "stderr",
          "text": [
            "Epoch 8/10 - TripletTraining: 100%|██████████| 79/79 [02:17<00:00,  1.74s/it]\n"
          ]
        },
        {
          "output_type": "stream",
          "name": "stdout",
          "text": [
            "Epoch [8/10], Triplet Loss: 0.2002, Training Accuracy: 0.6988, \n"
          ]
        },
        {
          "output_type": "stream",
          "name": "stderr",
          "text": [
            "Epoch 9/10 - TripletTraining: 100%|██████████| 79/79 [02:16<00:00,  1.72s/it]\n"
          ]
        },
        {
          "output_type": "stream",
          "name": "stdout",
          "text": [
            "Epoch [9/10], Triplet Loss: 0.2002, Training Accuracy: 0.7208, \n"
          ]
        },
        {
          "output_type": "stream",
          "name": "stderr",
          "text": [
            "Epoch 10/10 - TripletTraining: 100%|██████████| 79/79 [02:15<00:00,  1.71s/it]"
          ]
        },
        {
          "output_type": "stream",
          "name": "stdout",
          "text": [
            "Epoch [10/10], Triplet Loss: 0.2001, Training Accuracy: 0.7353, \n"
          ]
        },
        {
          "output_type": "stream",
          "name": "stderr",
          "text": [
            "\n"
          ]
        }
      ]
    },
    {
      "cell_type": "markdown",
      "source": [
        "<div dir=\"rtl\" style=\"text-align: justify\"><font face=\"B Nazanin\" size=4>\n",
        "در این قسمت وزن های قسمت استخراج ویژگی فریز شده و مدل کامل با تغییر لایه آخر به 2 کلاس خروجی ترین می شود.\n",
        "<br>"
      ],
      "metadata": {
        "id": "CxVxEJCDZN7K"
      }
    },
    {
      "cell_type": "code",
      "source": [
        "num_classes_cifar = 2\n",
        "\n",
        "for param in alexnet_triplet.features.parameters():\n",
        "    param.requires_grad = False\n",
        "\n",
        "alexnet_triplet.classifier[-1] = nn.Linear(4096, num_classes_cifar)\n",
        "\n",
        "train_loader = DataLoader(subset_train_dataset, batch_size=128, shuffle=True)\n",
        "test_loader = DataLoader(subset_test_dataset, batch_size=128, shuffle=False)\n",
        "\n",
        "classifier_criterion = nn.CrossEntropyLoss()\n",
        "classifier_optimizer = optim.SGD(alexnet_triplet.parameters(), lr=0.001)\n",
        "test_acc, train_acc, loss = train(alexnet_triplet, train_loader, test_loader, classifier_criterion, classifier_optimizer, num_epochs=100)\n"
      ],
      "metadata": {
        "id": "_2qP21xLkyQi",
        "colab": {
          "base_uri": "https://localhost:8080/"
        },
        "outputId": "2bd0f5ff-9225-40e4-b45b-078f43266c8b"
      },
      "execution_count": null,
      "outputs": [
        {
          "output_type": "stream",
          "name": "stderr",
          "text": [
            "Epoch 1/100 - Training: 100%|██████████| 79/79 [00:29<00:00,  2.67it/s]\n"
          ]
        },
        {
          "output_type": "stream",
          "name": "stdout",
          "text": [
            "Epoch [1/100], Training Loss: 0.3596, Training Accuracy: 0.8748, Test Accuracy: 0.9155\n"
          ]
        },
        {
          "output_type": "stream",
          "name": "stderr",
          "text": [
            "Epoch 2/100 - Training: 100%|██████████| 79/79 [00:29<00:00,  2.69it/s]\n"
          ]
        },
        {
          "output_type": "stream",
          "name": "stdout",
          "text": [
            "Epoch [2/100], Training Loss: 0.2370, Training Accuracy: 0.9159, Test Accuracy: 0.9265\n"
          ]
        },
        {
          "output_type": "stream",
          "name": "stderr",
          "text": [
            "Epoch 3/100 - Training: 100%|██████████| 79/79 [00:29<00:00,  2.71it/s]\n"
          ]
        },
        {
          "output_type": "stream",
          "name": "stdout",
          "text": [
            "Epoch [3/100], Training Loss: 0.2059, Training Accuracy: 0.9276, Test Accuracy: 0.9345\n"
          ]
        },
        {
          "output_type": "stream",
          "name": "stderr",
          "text": [
            "Epoch 4/100 - Training: 100%|██████████| 79/79 [00:29<00:00,  2.69it/s]\n"
          ]
        },
        {
          "output_type": "stream",
          "name": "stdout",
          "text": [
            "Epoch [4/100], Training Loss: 0.1905, Training Accuracy: 0.9299, Test Accuracy: 0.9355\n"
          ]
        },
        {
          "output_type": "stream",
          "name": "stderr",
          "text": [
            "Epoch 5/100 - Training: 100%|██████████| 79/79 [00:29<00:00,  2.64it/s]\n"
          ]
        },
        {
          "output_type": "stream",
          "name": "stdout",
          "text": [
            "Epoch [5/100], Training Loss: 0.1809, Training Accuracy: 0.9280, Test Accuracy: 0.9390\n"
          ]
        },
        {
          "output_type": "stream",
          "name": "stderr",
          "text": [
            "Epoch 6/100 - Training: 100%|██████████| 79/79 [00:29<00:00,  2.68it/s]\n"
          ]
        },
        {
          "output_type": "stream",
          "name": "stdout",
          "text": [
            "Epoch [6/100], Training Loss: 0.1763, Training Accuracy: 0.9341, Test Accuracy: 0.9420\n"
          ]
        },
        {
          "output_type": "stream",
          "name": "stderr",
          "text": [
            "Epoch 7/100 - Training: 100%|██████████| 79/79 [00:29<00:00,  2.67it/s]\n"
          ]
        },
        {
          "output_type": "stream",
          "name": "stdout",
          "text": [
            "Epoch [7/100], Training Loss: 0.1658, Training Accuracy: 0.9378, Test Accuracy: 0.9450\n"
          ]
        },
        {
          "output_type": "stream",
          "name": "stderr",
          "text": [
            "Epoch 8/100 - Training: 100%|██████████| 79/79 [00:29<00:00,  2.67it/s]\n"
          ]
        },
        {
          "output_type": "stream",
          "name": "stdout",
          "text": [
            "Epoch [8/100], Training Loss: 0.1631, Training Accuracy: 0.9376, Test Accuracy: 0.9455\n"
          ]
        },
        {
          "output_type": "stream",
          "name": "stderr",
          "text": [
            "Epoch 9/100 - Training: 100%|██████████| 79/79 [00:29<00:00,  2.64it/s]\n"
          ]
        },
        {
          "output_type": "stream",
          "name": "stdout",
          "text": [
            "Epoch [9/100], Training Loss: 0.1560, Training Accuracy: 0.9414, Test Accuracy: 0.9475\n"
          ]
        },
        {
          "output_type": "stream",
          "name": "stderr",
          "text": [
            "Epoch 10/100 - Training: 100%|██████████| 79/79 [00:29<00:00,  2.72it/s]\n"
          ]
        },
        {
          "output_type": "stream",
          "name": "stdout",
          "text": [
            "Epoch [10/100], Training Loss: 0.1548, Training Accuracy: 0.9393, Test Accuracy: 0.9495\n"
          ]
        },
        {
          "output_type": "stream",
          "name": "stderr",
          "text": [
            "Epoch 11/100 - Training: 100%|██████████| 79/79 [00:29<00:00,  2.68it/s]\n"
          ]
        },
        {
          "output_type": "stream",
          "name": "stdout",
          "text": [
            "Epoch [11/100], Training Loss: 0.1492, Training Accuracy: 0.9432, Test Accuracy: 0.9510\n"
          ]
        },
        {
          "output_type": "stream",
          "name": "stderr",
          "text": [
            "Epoch 12/100 - Training: 100%|██████████| 79/79 [00:29<00:00,  2.66it/s]\n"
          ]
        },
        {
          "output_type": "stream",
          "name": "stdout",
          "text": [
            "Epoch [12/100], Training Loss: 0.1476, Training Accuracy: 0.9428, Test Accuracy: 0.9470\n"
          ]
        },
        {
          "output_type": "stream",
          "name": "stderr",
          "text": [
            "Epoch 13/100 - Training: 100%|██████████| 79/79 [00:29<00:00,  2.65it/s]\n"
          ]
        },
        {
          "output_type": "stream",
          "name": "stdout",
          "text": [
            "Epoch [13/100], Training Loss: 0.1491, Training Accuracy: 0.9438, Test Accuracy: 0.9510\n"
          ]
        },
        {
          "output_type": "stream",
          "name": "stderr",
          "text": [
            "Epoch 14/100 - Training: 100%|██████████| 79/79 [00:30<00:00,  2.59it/s]\n"
          ]
        },
        {
          "output_type": "stream",
          "name": "stdout",
          "text": [
            "Epoch [14/100], Training Loss: 0.1403, Training Accuracy: 0.9470, Test Accuracy: 0.9540\n"
          ]
        },
        {
          "output_type": "stream",
          "name": "stderr",
          "text": [
            "Epoch 15/100 - Training: 100%|██████████| 79/79 [00:29<00:00,  2.66it/s]\n"
          ]
        },
        {
          "output_type": "stream",
          "name": "stdout",
          "text": [
            "Epoch [15/100], Training Loss: 0.1397, Training Accuracy: 0.9456, Test Accuracy: 0.9545\n"
          ]
        },
        {
          "output_type": "stream",
          "name": "stderr",
          "text": [
            "Epoch 16/100 - Training: 100%|██████████| 79/79 [00:29<00:00,  2.64it/s]\n"
          ]
        },
        {
          "output_type": "stream",
          "name": "stdout",
          "text": [
            "Epoch [16/100], Training Loss: 0.1400, Training Accuracy: 0.9474, Test Accuracy: 0.9550\n"
          ]
        },
        {
          "output_type": "stream",
          "name": "stderr",
          "text": [
            "Epoch 17/100 - Training: 100%|██████████| 79/79 [00:29<00:00,  2.65it/s]\n"
          ]
        },
        {
          "output_type": "stream",
          "name": "stdout",
          "text": [
            "Epoch [17/100], Training Loss: 0.1397, Training Accuracy: 0.9443, Test Accuracy: 0.9550\n"
          ]
        },
        {
          "output_type": "stream",
          "name": "stderr",
          "text": [
            "Epoch 18/100 - Training: 100%|██████████| 79/79 [00:29<00:00,  2.69it/s]\n"
          ]
        },
        {
          "output_type": "stream",
          "name": "stdout",
          "text": [
            "Epoch [18/100], Training Loss: 0.1355, Training Accuracy: 0.9484, Test Accuracy: 0.9530\n"
          ]
        },
        {
          "output_type": "stream",
          "name": "stderr",
          "text": [
            "Epoch 19/100 - Training: 100%|██████████| 79/79 [00:29<00:00,  2.68it/s]\n"
          ]
        },
        {
          "output_type": "stream",
          "name": "stdout",
          "text": [
            "Epoch [19/100], Training Loss: 0.1357, Training Accuracy: 0.9483, Test Accuracy: 0.9560\n"
          ]
        },
        {
          "output_type": "stream",
          "name": "stderr",
          "text": [
            "Epoch 20/100 - Training: 100%|██████████| 79/79 [00:29<00:00,  2.64it/s]\n"
          ]
        },
        {
          "output_type": "stream",
          "name": "stdout",
          "text": [
            "Epoch [20/100], Training Loss: 0.1336, Training Accuracy: 0.9482, Test Accuracy: 0.9575\n"
          ]
        },
        {
          "output_type": "stream",
          "name": "stderr",
          "text": [
            "Epoch 21/100 - Training: 100%|██████████| 79/79 [00:29<00:00,  2.64it/s]\n"
          ]
        },
        {
          "output_type": "stream",
          "name": "stdout",
          "text": [
            "Epoch [21/100], Training Loss: 0.1258, Training Accuracy: 0.9521, Test Accuracy: 0.9560\n"
          ]
        },
        {
          "output_type": "stream",
          "name": "stderr",
          "text": [
            "Epoch 22/100 - Training: 100%|██████████| 79/79 [00:29<00:00,  2.68it/s]\n"
          ]
        },
        {
          "output_type": "stream",
          "name": "stdout",
          "text": [
            "Epoch [22/100], Training Loss: 0.1306, Training Accuracy: 0.9507, Test Accuracy: 0.9590\n"
          ]
        },
        {
          "output_type": "stream",
          "name": "stderr",
          "text": [
            "Epoch 23/100 - Training: 100%|██████████| 79/79 [00:29<00:00,  2.67it/s]\n"
          ]
        },
        {
          "output_type": "stream",
          "name": "stdout",
          "text": [
            "Epoch [23/100], Training Loss: 0.1279, Training Accuracy: 0.9513, Test Accuracy: 0.9590\n"
          ]
        },
        {
          "output_type": "stream",
          "name": "stderr",
          "text": [
            "Epoch 24/100 - Training: 100%|██████████| 79/79 [00:30<00:00,  2.61it/s]\n"
          ]
        },
        {
          "output_type": "stream",
          "name": "stdout",
          "text": [
            "Epoch [24/100], Training Loss: 0.1272, Training Accuracy: 0.9521, Test Accuracy: 0.9605\n"
          ]
        },
        {
          "output_type": "stream",
          "name": "stderr",
          "text": [
            "Epoch 25/100 - Training: 100%|██████████| 79/79 [00:30<00:00,  2.55it/s]\n"
          ]
        },
        {
          "output_type": "stream",
          "name": "stdout",
          "text": [
            "Epoch [25/100], Training Loss: 0.1282, Training Accuracy: 0.9485, Test Accuracy: 0.9610\n"
          ]
        },
        {
          "output_type": "stream",
          "name": "stderr",
          "text": [
            "Epoch 26/100 - Training: 100%|██████████| 79/79 [00:29<00:00,  2.67it/s]\n"
          ]
        },
        {
          "output_type": "stream",
          "name": "stdout",
          "text": [
            "Epoch [26/100], Training Loss: 0.1226, Training Accuracy: 0.9535, Test Accuracy: 0.9610\n"
          ]
        },
        {
          "output_type": "stream",
          "name": "stderr",
          "text": [
            "Epoch 27/100 - Training: 100%|██████████| 79/79 [00:29<00:00,  2.68it/s]\n"
          ]
        },
        {
          "output_type": "stream",
          "name": "stdout",
          "text": [
            "Epoch [27/100], Training Loss: 0.1256, Training Accuracy: 0.9540, Test Accuracy: 0.9615\n"
          ]
        },
        {
          "output_type": "stream",
          "name": "stderr",
          "text": [
            "Epoch 28/100 - Training: 100%|██████████| 79/79 [00:29<00:00,  2.64it/s]\n"
          ]
        },
        {
          "output_type": "stream",
          "name": "stdout",
          "text": [
            "Epoch [28/100], Training Loss: 0.1213, Training Accuracy: 0.9528, Test Accuracy: 0.9615\n"
          ]
        },
        {
          "output_type": "stream",
          "name": "stderr",
          "text": [
            "Epoch 29/100 - Training: 100%|██████████| 79/79 [00:29<00:00,  2.69it/s]\n"
          ]
        },
        {
          "output_type": "stream",
          "name": "stdout",
          "text": [
            "Epoch [29/100], Training Loss: 0.1196, Training Accuracy: 0.9546, Test Accuracy: 0.9630\n"
          ]
        },
        {
          "output_type": "stream",
          "name": "stderr",
          "text": [
            "Epoch 30/100 - Training: 100%|██████████| 79/79 [00:29<00:00,  2.67it/s]\n"
          ]
        },
        {
          "output_type": "stream",
          "name": "stdout",
          "text": [
            "Epoch [30/100], Training Loss: 0.1231, Training Accuracy: 0.9511, Test Accuracy: 0.9620\n"
          ]
        },
        {
          "output_type": "stream",
          "name": "stderr",
          "text": [
            "Epoch 31/100 - Training: 100%|██████████| 79/79 [00:29<00:00,  2.69it/s]\n"
          ]
        },
        {
          "output_type": "stream",
          "name": "stdout",
          "text": [
            "Epoch [31/100], Training Loss: 0.1193, Training Accuracy: 0.9526, Test Accuracy: 0.9600\n"
          ]
        },
        {
          "output_type": "stream",
          "name": "stderr",
          "text": [
            "Epoch 32/100 - Training: 100%|██████████| 79/79 [00:29<00:00,  2.65it/s]\n"
          ]
        },
        {
          "output_type": "stream",
          "name": "stdout",
          "text": [
            "Epoch [32/100], Training Loss: 0.1185, Training Accuracy: 0.9541, Test Accuracy: 0.9635\n"
          ]
        },
        {
          "output_type": "stream",
          "name": "stderr",
          "text": [
            "Epoch 33/100 - Training: 100%|██████████| 79/79 [00:29<00:00,  2.69it/s]\n"
          ]
        },
        {
          "output_type": "stream",
          "name": "stdout",
          "text": [
            "Epoch [33/100], Training Loss: 0.1145, Training Accuracy: 0.9571, Test Accuracy: 0.9640\n"
          ]
        },
        {
          "output_type": "stream",
          "name": "stderr",
          "text": [
            "Epoch 34/100 - Training: 100%|██████████| 79/79 [00:29<00:00,  2.69it/s]\n"
          ]
        },
        {
          "output_type": "stream",
          "name": "stdout",
          "text": [
            "Epoch [34/100], Training Loss: 0.1147, Training Accuracy: 0.9551, Test Accuracy: 0.9630\n"
          ]
        },
        {
          "output_type": "stream",
          "name": "stderr",
          "text": [
            "Epoch 35/100 - Training: 100%|██████████| 79/79 [00:29<00:00,  2.69it/s]\n"
          ]
        },
        {
          "output_type": "stream",
          "name": "stdout",
          "text": [
            "Epoch [35/100], Training Loss: 0.1122, Training Accuracy: 0.9587, Test Accuracy: 0.9655\n"
          ]
        },
        {
          "output_type": "stream",
          "name": "stderr",
          "text": [
            "Epoch 36/100 - Training: 100%|██████████| 79/79 [00:31<00:00,  2.53it/s]\n"
          ]
        },
        {
          "output_type": "stream",
          "name": "stdout",
          "text": [
            "Epoch [36/100], Training Loss: 0.1160, Training Accuracy: 0.9545, Test Accuracy: 0.9645\n"
          ]
        },
        {
          "output_type": "stream",
          "name": "stderr",
          "text": [
            "Epoch 37/100 - Training: 100%|██████████| 79/79 [00:29<00:00,  2.69it/s]\n"
          ]
        },
        {
          "output_type": "stream",
          "name": "stdout",
          "text": [
            "Epoch [37/100], Training Loss: 0.1145, Training Accuracy: 0.9566, Test Accuracy: 0.9625\n"
          ]
        },
        {
          "output_type": "stream",
          "name": "stderr",
          "text": [
            "Epoch 38/100 - Training: 100%|██████████| 79/79 [00:29<00:00,  2.67it/s]\n"
          ]
        },
        {
          "output_type": "stream",
          "name": "stdout",
          "text": [
            "Epoch [38/100], Training Loss: 0.1162, Training Accuracy: 0.9536, Test Accuracy: 0.9640\n"
          ]
        },
        {
          "output_type": "stream",
          "name": "stderr",
          "text": [
            "Epoch 39/100 - Training: 100%|██████████| 79/79 [00:29<00:00,  2.67it/s]\n"
          ]
        },
        {
          "output_type": "stream",
          "name": "stdout",
          "text": [
            "Epoch [39/100], Training Loss: 0.1112, Training Accuracy: 0.9574, Test Accuracy: 0.9635\n"
          ]
        },
        {
          "output_type": "stream",
          "name": "stderr",
          "text": [
            "Epoch 40/100 - Training: 100%|██████████| 79/79 [00:29<00:00,  2.67it/s]\n"
          ]
        },
        {
          "output_type": "stream",
          "name": "stdout",
          "text": [
            "Epoch [40/100], Training Loss: 0.1115, Training Accuracy: 0.9586, Test Accuracy: 0.9655\n"
          ]
        },
        {
          "output_type": "stream",
          "name": "stderr",
          "text": [
            "Epoch 41/100 - Training: 100%|██████████| 79/79 [00:29<00:00,  2.71it/s]\n"
          ]
        },
        {
          "output_type": "stream",
          "name": "stdout",
          "text": [
            "Epoch [41/100], Training Loss: 0.1127, Training Accuracy: 0.9541, Test Accuracy: 0.9640\n"
          ]
        },
        {
          "output_type": "stream",
          "name": "stderr",
          "text": [
            "Epoch 42/100 - Training: 100%|██████████| 79/79 [00:29<00:00,  2.68it/s]\n"
          ]
        },
        {
          "output_type": "stream",
          "name": "stdout",
          "text": [
            "Epoch [42/100], Training Loss: 0.1109, Training Accuracy: 0.9580, Test Accuracy: 0.9650\n"
          ]
        },
        {
          "output_type": "stream",
          "name": "stderr",
          "text": [
            "Epoch 43/100 - Training: 100%|██████████| 79/79 [00:30<00:00,  2.63it/s]\n"
          ]
        },
        {
          "output_type": "stream",
          "name": "stdout",
          "text": [
            "Epoch [43/100], Training Loss: 0.1129, Training Accuracy: 0.9571, Test Accuracy: 0.9655\n"
          ]
        },
        {
          "output_type": "stream",
          "name": "stderr",
          "text": [
            "Epoch 44/100 - Training: 100%|██████████| 79/79 [00:29<00:00,  2.68it/s]\n"
          ]
        },
        {
          "output_type": "stream",
          "name": "stdout",
          "text": [
            "Epoch [44/100], Training Loss: 0.1070, Training Accuracy: 0.9578, Test Accuracy: 0.9660\n"
          ]
        },
        {
          "output_type": "stream",
          "name": "stderr",
          "text": [
            "Epoch 45/100 - Training: 100%|██████████| 79/79 [00:29<00:00,  2.66it/s]\n"
          ]
        },
        {
          "output_type": "stream",
          "name": "stdout",
          "text": [
            "Epoch [45/100], Training Loss: 0.1080, Training Accuracy: 0.9589, Test Accuracy: 0.9630\n"
          ]
        },
        {
          "output_type": "stream",
          "name": "stderr",
          "text": [
            "Epoch 46/100 - Training: 100%|██████████| 79/79 [00:29<00:00,  2.70it/s]\n"
          ]
        },
        {
          "output_type": "stream",
          "name": "stdout",
          "text": [
            "Epoch [46/100], Training Loss: 0.1114, Training Accuracy: 0.9541, Test Accuracy: 0.9655\n"
          ]
        },
        {
          "output_type": "stream",
          "name": "stderr",
          "text": [
            "Epoch 47/100 - Training: 100%|██████████| 79/79 [00:31<00:00,  2.54it/s]\n"
          ]
        },
        {
          "output_type": "stream",
          "name": "stdout",
          "text": [
            "Epoch [47/100], Training Loss: 0.1035, Training Accuracy: 0.9603, Test Accuracy: 0.9665\n"
          ]
        },
        {
          "output_type": "stream",
          "name": "stderr",
          "text": [
            "Epoch 48/100 - Training: 100%|██████████| 79/79 [00:29<00:00,  2.63it/s]\n"
          ]
        },
        {
          "output_type": "stream",
          "name": "stdout",
          "text": [
            "Epoch [48/100], Training Loss: 0.1051, Training Accuracy: 0.9588, Test Accuracy: 0.9665\n"
          ]
        },
        {
          "output_type": "stream",
          "name": "stderr",
          "text": [
            "Epoch 49/100 - Training: 100%|██████████| 79/79 [00:29<00:00,  2.65it/s]\n"
          ]
        },
        {
          "output_type": "stream",
          "name": "stdout",
          "text": [
            "Epoch [49/100], Training Loss: 0.1060, Training Accuracy: 0.9592, Test Accuracy: 0.9670\n"
          ]
        },
        {
          "output_type": "stream",
          "name": "stderr",
          "text": [
            "Epoch 50/100 - Training: 100%|██████████| 79/79 [00:29<00:00,  2.67it/s]\n"
          ]
        },
        {
          "output_type": "stream",
          "name": "stdout",
          "text": [
            "Epoch [50/100], Training Loss: 0.1029, Training Accuracy: 0.9602, Test Accuracy: 0.9675\n"
          ]
        },
        {
          "output_type": "stream",
          "name": "stderr",
          "text": [
            "Epoch 51/100 - Training: 100%|██████████| 79/79 [00:30<00:00,  2.62it/s]\n"
          ]
        },
        {
          "output_type": "stream",
          "name": "stdout",
          "text": [
            "Epoch [51/100], Training Loss: 0.1070, Training Accuracy: 0.9598, Test Accuracy: 0.9660\n"
          ]
        },
        {
          "output_type": "stream",
          "name": "stderr",
          "text": [
            "Epoch 52/100 - Training: 100%|██████████| 79/79 [00:29<00:00,  2.65it/s]\n"
          ]
        },
        {
          "output_type": "stream",
          "name": "stdout",
          "text": [
            "Epoch [52/100], Training Loss: 0.1043, Training Accuracy: 0.9595, Test Accuracy: 0.9665\n"
          ]
        },
        {
          "output_type": "stream",
          "name": "stderr",
          "text": [
            "Epoch 53/100 - Training: 100%|██████████| 79/79 [00:29<00:00,  2.67it/s]\n"
          ]
        },
        {
          "output_type": "stream",
          "name": "stdout",
          "text": [
            "Epoch [53/100], Training Loss: 0.1071, Training Accuracy: 0.9598, Test Accuracy: 0.9670\n"
          ]
        },
        {
          "output_type": "stream",
          "name": "stderr",
          "text": [
            "Epoch 54/100 - Training: 100%|██████████| 79/79 [00:29<00:00,  2.67it/s]\n"
          ]
        },
        {
          "output_type": "stream",
          "name": "stdout",
          "text": [
            "Epoch [54/100], Training Loss: 0.1042, Training Accuracy: 0.9602, Test Accuracy: 0.9670\n"
          ]
        },
        {
          "output_type": "stream",
          "name": "stderr",
          "text": [
            "Epoch 55/100 - Training: 100%|██████████| 79/79 [00:29<00:00,  2.64it/s]\n"
          ]
        },
        {
          "output_type": "stream",
          "name": "stdout",
          "text": [
            "Epoch [55/100], Training Loss: 0.1031, Training Accuracy: 0.9594, Test Accuracy: 0.9660\n"
          ]
        },
        {
          "output_type": "stream",
          "name": "stderr",
          "text": [
            "Epoch 56/100 - Training: 100%|██████████| 79/79 [00:30<00:00,  2.63it/s]\n"
          ]
        },
        {
          "output_type": "stream",
          "name": "stdout",
          "text": [
            "Epoch [56/100], Training Loss: 0.1044, Training Accuracy: 0.9572, Test Accuracy: 0.9670\n"
          ]
        },
        {
          "output_type": "stream",
          "name": "stderr",
          "text": [
            "Epoch 57/100 - Training: 100%|██████████| 79/79 [00:30<00:00,  2.58it/s]\n"
          ]
        },
        {
          "output_type": "stream",
          "name": "stdout",
          "text": [
            "Epoch [57/100], Training Loss: 0.1068, Training Accuracy: 0.9593, Test Accuracy: 0.9675\n"
          ]
        },
        {
          "output_type": "stream",
          "name": "stderr",
          "text": [
            "Epoch 58/100 - Training: 100%|██████████| 79/79 [00:29<00:00,  2.66it/s]\n"
          ]
        },
        {
          "output_type": "stream",
          "name": "stdout",
          "text": [
            "Epoch [58/100], Training Loss: 0.1022, Training Accuracy: 0.9619, Test Accuracy: 0.9675\n"
          ]
        },
        {
          "output_type": "stream",
          "name": "stderr",
          "text": [
            "Epoch 59/100 - Training: 100%|██████████| 79/79 [00:29<00:00,  2.66it/s]\n"
          ]
        },
        {
          "output_type": "stream",
          "name": "stdout",
          "text": [
            "Epoch [59/100], Training Loss: 0.1032, Training Accuracy: 0.9619, Test Accuracy: 0.9670\n"
          ]
        },
        {
          "output_type": "stream",
          "name": "stderr",
          "text": [
            "Epoch 60/100 - Training: 100%|██████████| 79/79 [00:30<00:00,  2.61it/s]\n"
          ]
        },
        {
          "output_type": "stream",
          "name": "stdout",
          "text": [
            "Epoch [60/100], Training Loss: 0.1010, Training Accuracy: 0.9605, Test Accuracy: 0.9685\n"
          ]
        },
        {
          "output_type": "stream",
          "name": "stderr",
          "text": [
            "Epoch 61/100 - Training: 100%|██████████| 79/79 [00:29<00:00,  2.71it/s]\n"
          ]
        },
        {
          "output_type": "stream",
          "name": "stdout",
          "text": [
            "Epoch [61/100], Training Loss: 0.0987, Training Accuracy: 0.9631, Test Accuracy: 0.9680\n"
          ]
        },
        {
          "output_type": "stream",
          "name": "stderr",
          "text": [
            "Epoch 62/100 - Training: 100%|██████████| 79/79 [00:29<00:00,  2.69it/s]\n"
          ]
        },
        {
          "output_type": "stream",
          "name": "stdout",
          "text": [
            "Epoch [62/100], Training Loss: 0.0977, Training Accuracy: 0.9613, Test Accuracy: 0.9670\n"
          ]
        },
        {
          "output_type": "stream",
          "name": "stderr",
          "text": [
            "Epoch 63/100 - Training: 100%|██████████| 79/79 [00:29<00:00,  2.64it/s]\n"
          ]
        },
        {
          "output_type": "stream",
          "name": "stdout",
          "text": [
            "Epoch [63/100], Training Loss: 0.1006, Training Accuracy: 0.9634, Test Accuracy: 0.9675\n"
          ]
        },
        {
          "output_type": "stream",
          "name": "stderr",
          "text": [
            "Epoch 64/100 - Training: 100%|██████████| 79/79 [00:29<00:00,  2.64it/s]\n"
          ]
        },
        {
          "output_type": "stream",
          "name": "stdout",
          "text": [
            "Epoch [64/100], Training Loss: 0.0980, Training Accuracy: 0.9616, Test Accuracy: 0.9690\n"
          ]
        },
        {
          "output_type": "stream",
          "name": "stderr",
          "text": [
            "Epoch 65/100 - Training: 100%|██████████| 79/79 [00:29<00:00,  2.67it/s]\n"
          ]
        },
        {
          "output_type": "stream",
          "name": "stdout",
          "text": [
            "Epoch [65/100], Training Loss: 0.0972, Training Accuracy: 0.9610, Test Accuracy: 0.9670\n"
          ]
        },
        {
          "output_type": "stream",
          "name": "stderr",
          "text": [
            "Epoch 66/100 - Training: 100%|██████████| 79/79 [00:29<00:00,  2.69it/s]\n"
          ]
        },
        {
          "output_type": "stream",
          "name": "stdout",
          "text": [
            "Epoch [66/100], Training Loss: 0.0963, Training Accuracy: 0.9613, Test Accuracy: 0.9675\n"
          ]
        },
        {
          "output_type": "stream",
          "name": "stderr",
          "text": [
            "Epoch 67/100 - Training: 100%|██████████| 79/79 [00:30<00:00,  2.58it/s]\n"
          ]
        },
        {
          "output_type": "stream",
          "name": "stdout",
          "text": [
            "Epoch [67/100], Training Loss: 0.0947, Training Accuracy: 0.9620, Test Accuracy: 0.9665\n"
          ]
        },
        {
          "output_type": "stream",
          "name": "stderr",
          "text": [
            "Epoch 68/100 - Training: 100%|██████████| 79/79 [00:29<00:00,  2.67it/s]\n"
          ]
        },
        {
          "output_type": "stream",
          "name": "stdout",
          "text": [
            "Epoch [68/100], Training Loss: 0.0972, Training Accuracy: 0.9606, Test Accuracy: 0.9680\n"
          ]
        },
        {
          "output_type": "stream",
          "name": "stderr",
          "text": [
            "Epoch 69/100 - Training: 100%|██████████| 79/79 [00:29<00:00,  2.71it/s]\n"
          ]
        },
        {
          "output_type": "stream",
          "name": "stdout",
          "text": [
            "Epoch [69/100], Training Loss: 0.0932, Training Accuracy: 0.9639, Test Accuracy: 0.9670\n"
          ]
        },
        {
          "output_type": "stream",
          "name": "stderr",
          "text": [
            "Epoch 70/100 - Training: 100%|██████████| 79/79 [00:29<00:00,  2.70it/s]\n"
          ]
        },
        {
          "output_type": "stream",
          "name": "stdout",
          "text": [
            "Epoch [70/100], Training Loss: 0.0997, Training Accuracy: 0.9610, Test Accuracy: 0.9685\n"
          ]
        },
        {
          "output_type": "stream",
          "name": "stderr",
          "text": [
            "Epoch 71/100 - Training: 100%|██████████| 79/79 [00:29<00:00,  2.64it/s]\n"
          ]
        },
        {
          "output_type": "stream",
          "name": "stdout",
          "text": [
            "Epoch [71/100], Training Loss: 0.0975, Training Accuracy: 0.9615, Test Accuracy: 0.9685\n"
          ]
        },
        {
          "output_type": "stream",
          "name": "stderr",
          "text": [
            "Epoch 72/100 - Training: 100%|██████████| 79/79 [00:29<00:00,  2.65it/s]\n"
          ]
        },
        {
          "output_type": "stream",
          "name": "stdout",
          "text": [
            "Epoch [72/100], Training Loss: 0.0911, Training Accuracy: 0.9633, Test Accuracy: 0.9675\n"
          ]
        },
        {
          "output_type": "stream",
          "name": "stderr",
          "text": [
            "Epoch 73/100 - Training: 100%|██████████| 79/79 [00:29<00:00,  2.69it/s]\n"
          ]
        },
        {
          "output_type": "stream",
          "name": "stdout",
          "text": [
            "Epoch [73/100], Training Loss: 0.0946, Training Accuracy: 0.9620, Test Accuracy: 0.9680\n"
          ]
        },
        {
          "output_type": "stream",
          "name": "stderr",
          "text": [
            "Epoch 74/100 - Training: 100%|██████████| 79/79 [00:29<00:00,  2.66it/s]\n"
          ]
        },
        {
          "output_type": "stream",
          "name": "stdout",
          "text": [
            "Epoch [74/100], Training Loss: 0.0984, Training Accuracy: 0.9604, Test Accuracy: 0.9675\n"
          ]
        },
        {
          "output_type": "stream",
          "name": "stderr",
          "text": [
            "Epoch 75/100 - Training: 100%|██████████| 79/79 [00:29<00:00,  2.66it/s]\n"
          ]
        },
        {
          "output_type": "stream",
          "name": "stdout",
          "text": [
            "Epoch [75/100], Training Loss: 0.0963, Training Accuracy: 0.9620, Test Accuracy: 0.9680\n"
          ]
        },
        {
          "output_type": "stream",
          "name": "stderr",
          "text": [
            "Epoch 76/100 - Training: 100%|██████████| 79/79 [00:29<00:00,  2.70it/s]\n"
          ]
        },
        {
          "output_type": "stream",
          "name": "stdout",
          "text": [
            "Epoch [76/100], Training Loss: 0.0931, Training Accuracy: 0.9637, Test Accuracy: 0.9680\n"
          ]
        },
        {
          "output_type": "stream",
          "name": "stderr",
          "text": [
            "Epoch 77/100 - Training: 100%|██████████| 79/79 [00:29<00:00,  2.70it/s]\n"
          ]
        },
        {
          "output_type": "stream",
          "name": "stdout",
          "text": [
            "Epoch [77/100], Training Loss: 0.0952, Training Accuracy: 0.9645, Test Accuracy: 0.9680\n"
          ]
        },
        {
          "output_type": "stream",
          "name": "stderr",
          "text": [
            "Epoch 78/100 - Training: 100%|██████████| 79/79 [00:29<00:00,  2.67it/s]\n"
          ]
        },
        {
          "output_type": "stream",
          "name": "stdout",
          "text": [
            "Epoch [78/100], Training Loss: 0.0911, Training Accuracy: 0.9654, Test Accuracy: 0.9680\n"
          ]
        },
        {
          "output_type": "stream",
          "name": "stderr",
          "text": [
            "Epoch 79/100 - Training: 100%|██████████| 79/79 [00:30<00:00,  2.62it/s]\n"
          ]
        },
        {
          "output_type": "stream",
          "name": "stdout",
          "text": [
            "Epoch [79/100], Training Loss: 0.0914, Training Accuracy: 0.9653, Test Accuracy: 0.9680\n"
          ]
        },
        {
          "output_type": "stream",
          "name": "stderr",
          "text": [
            "Epoch 80/100 - Training: 100%|██████████| 79/79 [00:29<00:00,  2.71it/s]\n"
          ]
        },
        {
          "output_type": "stream",
          "name": "stdout",
          "text": [
            "Epoch [80/100], Training Loss: 0.0907, Training Accuracy: 0.9646, Test Accuracy: 0.9685\n"
          ]
        },
        {
          "output_type": "stream",
          "name": "stderr",
          "text": [
            "Epoch 81/100 - Training: 100%|██████████| 79/79 [00:29<00:00,  2.71it/s]\n"
          ]
        },
        {
          "output_type": "stream",
          "name": "stdout",
          "text": [
            "Epoch [81/100], Training Loss: 0.0944, Training Accuracy: 0.9617, Test Accuracy: 0.9680\n"
          ]
        },
        {
          "output_type": "stream",
          "name": "stderr",
          "text": [
            "Epoch 82/100 - Training: 100%|██████████| 79/79 [00:29<00:00,  2.65it/s]\n"
          ]
        },
        {
          "output_type": "stream",
          "name": "stdout",
          "text": [
            "Epoch [82/100], Training Loss: 0.0916, Training Accuracy: 0.9643, Test Accuracy: 0.9685\n"
          ]
        },
        {
          "output_type": "stream",
          "name": "stderr",
          "text": [
            "Epoch 83/100 - Training: 100%|██████████| 79/79 [00:29<00:00,  2.67it/s]\n"
          ]
        },
        {
          "output_type": "stream",
          "name": "stdout",
          "text": [
            "Epoch [83/100], Training Loss: 0.0947, Training Accuracy: 0.9652, Test Accuracy: 0.9685\n"
          ]
        },
        {
          "output_type": "stream",
          "name": "stderr",
          "text": [
            "Epoch 84/100 - Training: 100%|██████████| 79/79 [00:29<00:00,  2.71it/s]\n"
          ]
        },
        {
          "output_type": "stream",
          "name": "stdout",
          "text": [
            "Epoch [84/100], Training Loss: 0.0868, Training Accuracy: 0.9672, Test Accuracy: 0.9685\n"
          ]
        },
        {
          "output_type": "stream",
          "name": "stderr",
          "text": [
            "Epoch 85/100 - Training: 100%|██████████| 79/79 [00:29<00:00,  2.69it/s]\n"
          ]
        },
        {
          "output_type": "stream",
          "name": "stdout",
          "text": [
            "Epoch [85/100], Training Loss: 0.0915, Training Accuracy: 0.9659, Test Accuracy: 0.9690\n"
          ]
        },
        {
          "output_type": "stream",
          "name": "stderr",
          "text": [
            "Epoch 86/100 - Training: 100%|██████████| 79/79 [00:29<00:00,  2.64it/s]\n"
          ]
        },
        {
          "output_type": "stream",
          "name": "stdout",
          "text": [
            "Epoch [86/100], Training Loss: 0.0891, Training Accuracy: 0.9642, Test Accuracy: 0.9685\n"
          ]
        },
        {
          "output_type": "stream",
          "name": "stderr",
          "text": [
            "Epoch 87/100 - Training: 100%|██████████| 79/79 [00:29<00:00,  2.71it/s]\n"
          ]
        },
        {
          "output_type": "stream",
          "name": "stdout",
          "text": [
            "Epoch [87/100], Training Loss: 0.0910, Training Accuracy: 0.9637, Test Accuracy: 0.9685\n"
          ]
        },
        {
          "output_type": "stream",
          "name": "stderr",
          "text": [
            "Epoch 88/100 - Training: 100%|██████████| 79/79 [00:29<00:00,  2.70it/s]\n"
          ]
        },
        {
          "output_type": "stream",
          "name": "stdout",
          "text": [
            "Epoch [88/100], Training Loss: 0.0880, Training Accuracy: 0.9669, Test Accuracy: 0.9685\n"
          ]
        },
        {
          "output_type": "stream",
          "name": "stderr",
          "text": [
            "Epoch 89/100 - Training: 100%|██████████| 79/79 [00:29<00:00,  2.64it/s]\n"
          ]
        },
        {
          "output_type": "stream",
          "name": "stdout",
          "text": [
            "Epoch [89/100], Training Loss: 0.0919, Training Accuracy: 0.9654, Test Accuracy: 0.9690\n"
          ]
        },
        {
          "output_type": "stream",
          "name": "stderr",
          "text": [
            "Epoch 90/100 - Training: 100%|██████████| 79/79 [00:29<00:00,  2.71it/s]\n"
          ]
        },
        {
          "output_type": "stream",
          "name": "stdout",
          "text": [
            "Epoch [90/100], Training Loss: 0.0918, Training Accuracy: 0.9673, Test Accuracy: 0.9685\n"
          ]
        },
        {
          "output_type": "stream",
          "name": "stderr",
          "text": [
            "Epoch 91/100 - Training: 100%|██████████| 79/79 [00:29<00:00,  2.71it/s]\n"
          ]
        },
        {
          "output_type": "stream",
          "name": "stdout",
          "text": [
            "Epoch [91/100], Training Loss: 0.0898, Training Accuracy: 0.9667, Test Accuracy: 0.9690\n"
          ]
        },
        {
          "output_type": "stream",
          "name": "stderr",
          "text": [
            "Epoch 92/100 - Training: 100%|██████████| 79/79 [00:29<00:00,  2.68it/s]\n"
          ]
        },
        {
          "output_type": "stream",
          "name": "stdout",
          "text": [
            "Epoch [92/100], Training Loss: 0.0895, Training Accuracy: 0.9663, Test Accuracy: 0.9700\n"
          ]
        },
        {
          "output_type": "stream",
          "name": "stderr",
          "text": [
            "Epoch 93/100 - Training: 100%|██████████| 79/79 [00:29<00:00,  2.68it/s]\n"
          ]
        },
        {
          "output_type": "stream",
          "name": "stdout",
          "text": [
            "Epoch [93/100], Training Loss: 0.0869, Training Accuracy: 0.9673, Test Accuracy: 0.9690\n"
          ]
        },
        {
          "output_type": "stream",
          "name": "stderr",
          "text": [
            "Epoch 94/100 - Training: 100%|██████████| 79/79 [00:29<00:00,  2.72it/s]\n"
          ]
        },
        {
          "output_type": "stream",
          "name": "stdout",
          "text": [
            "Epoch [94/100], Training Loss: 0.0892, Training Accuracy: 0.9669, Test Accuracy: 0.9680\n"
          ]
        },
        {
          "output_type": "stream",
          "name": "stderr",
          "text": [
            "Epoch 95/100 - Training: 100%|██████████| 79/79 [00:29<00:00,  2.72it/s]\n"
          ]
        },
        {
          "output_type": "stream",
          "name": "stdout",
          "text": [
            "Epoch [95/100], Training Loss: 0.0901, Training Accuracy: 0.9659, Test Accuracy: 0.9685\n"
          ]
        },
        {
          "output_type": "stream",
          "name": "stderr",
          "text": [
            "Epoch 96/100 - Training: 100%|██████████| 79/79 [00:29<00:00,  2.64it/s]\n"
          ]
        },
        {
          "output_type": "stream",
          "name": "stdout",
          "text": [
            "Epoch [96/100], Training Loss: 0.0882, Training Accuracy: 0.9670, Test Accuracy: 0.9710\n"
          ]
        },
        {
          "output_type": "stream",
          "name": "stderr",
          "text": [
            "Epoch 97/100 - Training: 100%|██████████| 79/79 [00:29<00:00,  2.63it/s]\n"
          ]
        },
        {
          "output_type": "stream",
          "name": "stdout",
          "text": [
            "Epoch [97/100], Training Loss: 0.0870, Training Accuracy: 0.9661, Test Accuracy: 0.9685\n"
          ]
        },
        {
          "output_type": "stream",
          "name": "stderr",
          "text": [
            "Epoch 98/100 - Training: 100%|██████████| 79/79 [00:28<00:00,  2.73it/s]\n"
          ]
        },
        {
          "output_type": "stream",
          "name": "stdout",
          "text": [
            "Epoch [98/100], Training Loss: 0.0857, Training Accuracy: 0.9670, Test Accuracy: 0.9685\n"
          ]
        },
        {
          "output_type": "stream",
          "name": "stderr",
          "text": [
            "Epoch 99/100 - Training: 100%|██████████| 79/79 [00:29<00:00,  2.70it/s]\n"
          ]
        },
        {
          "output_type": "stream",
          "name": "stdout",
          "text": [
            "Epoch [99/100], Training Loss: 0.0892, Training Accuracy: 0.9655, Test Accuracy: 0.9680\n"
          ]
        },
        {
          "output_type": "stream",
          "name": "stderr",
          "text": [
            "Epoch 100/100 - Training: 100%|██████████| 79/79 [00:29<00:00,  2.64it/s]\n"
          ]
        },
        {
          "output_type": "stream",
          "name": "stdout",
          "text": [
            "Epoch [100/100], Training Loss: 0.0864, Training Accuracy: 0.9680, Test Accuracy: 0.9695\n"
          ]
        }
      ]
    },
    {
      "cell_type": "markdown",
      "source": [
        "<div dir=\"rtl\" style=\"text-align: justify\"><font face=\"B Nazanin\" size=4>\n",
        "در نهایت نمودارهای تست و ترین برای دقت و لاس رسم می شود.\n",
        "<br>"
      ],
      "metadata": {
        "id": "yu0xO9rkdmoR"
      }
    },
    {
      "cell_type": "code",
      "source": [
        "import matplotlib.pyplot as plt\n",
        "\n",
        "fig, ax1 = plt.subplots()\n",
        "\n",
        "color = 'tab:red'\n",
        "ax1.set_xlabel('Epoch')\n",
        "ax1.set_ylabel('Accuracy', color=color)\n",
        "ax1.plot(triplet_acc_list, label='Accuracy', color=color)\n",
        "ax1.tick_params(axis='y', labelcolor=color)\n",
        "\n",
        "ax2 = ax1.twinx()\n",
        "color = 'tab:blue'\n",
        "ax2.set_ylabel('Loss', color=color)\n",
        "ax2.plot(triplet_loss_list, label='Loss', color=color)\n",
        "ax2.tick_params(axis='y', labelcolor=color)\n",
        "\n",
        "fig.tight_layout()\n",
        "plt.title('Training Accuracy and Loss Over Epochs feature extraction using triplet loss')\n",
        "plt.show()"
      ],
      "metadata": {
        "colab": {
          "base_uri": "https://localhost:8080/",
          "height": 505
        },
        "id": "W2ORm6PkaC6s",
        "outputId": "6b5e792c-3999-4159-862b-9c6a5cf7c793"
      },
      "execution_count": 1,
      "outputs": [
        {
          "output_type": "display_data",
          "data": {
            "text/plain": [
              "<Figure size 640x480 with 2 Axes>"
            ],
            "image/png": "[encoded data removed]"
          },
          "metadata": {}
        }
      ]
    },
    {
      "cell_type": "code",
      "source": [
        "import matplotlib.pyplot as plt\n",
        "\n",
        "\n",
        "fig, ax1 = plt.subplots()\n",
        "\n",
        "color = 'tab:red'\n",
        "ax1.set_xlabel('Epoch')\n",
        "ax1.set_ylabel('Train Accuracy', color=color)\n",
        "ax1.plot(train_acc, label='Train Accuracy', color=color)\n",
        "ax1.tick_params(axis='y', labelcolor=color)\n",
        "\n",
        "ax2 = ax1.twinx()\n",
        "color = 'tab:blue'\n",
        "ax2.set_ylabel('Train Loss', color=color)\n",
        "ax2.plot(loss, label='Train Loss', color=color)\n",
        "ax2.tick_params(axis='y', labelcolor=color)\n",
        "\n",
        "fig.tight_layout()\n",
        "plt.title('Training Accuracy and Loss Over Epochs')\n",
        "plt.show()\n",
        "\n",
        "# Plotting Test Accuracy\n",
        "plt.figure()\n",
        "plt.plot(test_acc, label='Test Accuracy', color='green')\n",
        "plt.title('Test Accuracy Over Epochs')\n",
        "plt.xlabel('Epoch')\n",
        "plt.ylabel('Test Accuracy')\n",
        "plt.show()\n"
      ],
      "metadata": {
        "id": "WfwxaEJ3h_mM",
        "colab": {
          "base_uri": "https://localhost:8080/",
          "height": 964
        },
        "outputId": "bd45e965-c855-4395-c48c-978b5608c4a5"
      },
      "execution_count": 2,
      "outputs": [
        {
          "output_type": "display_data",
          "data": {
            "text/plain": [
              "<Figure size 640x480 with 2 Axes>"
            ],
            "image/png": "[encoded data removed]"
          },
          "metadata": {}
        },
        {
          "output_type": "display_data",
          "data": {
            "text/plain": [
              "<Figure size 640x480 with 1 Axes>"
            ],
            "image/png": "[encoded data removed]"
          },
          "metadata": {}
        }
      ]
    }
  ]
}