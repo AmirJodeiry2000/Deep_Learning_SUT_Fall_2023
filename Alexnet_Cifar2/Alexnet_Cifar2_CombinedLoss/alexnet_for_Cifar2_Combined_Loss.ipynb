{
  "nbformat": 4,
  "nbformat_minor": 0,
  "metadata": {
    "colab": {
      "provenance": [],
      "gpuType": "T4"
    },
    "kernelspec": {
      "name": "python3",
      "display_name": "Python 3"
    },
    "language_info": {
      "name": "python"
    },
    "accelerator": "GPU"
  },
  "cells": [
    {
      "cell_type": "code",
      "execution_count": null,
      "metadata": {
        "id": "n6NBL5-qCb4j"
      },
      "outputs": [],
      "source": [
        "import torch\n",
        "import torch.nn as nn\n",
        "import torch.optim as optim\n",
        "from torch.utils.data import DataLoader, Dataset\n",
        "from torchvision import models, transforms\n",
        "from torchvision.datasets import CIFAR10\n",
        "import torch.nn.functional as F\n",
        "import numpy as np"
      ]
    },
    {
      "cell_type": "markdown",
      "source": [
        "<div dir=\"rtl\" style=\"text-align: justify\"><font face=\"B Nazanin\" size=4>\n",
        "در این قسمت ابتدا دیتاست Cifar10 دانلود شده مورد استفاده قرار می گیرد.\n",
        "دیتالودر موردنظر روی دو کلاس موردنظر ساخته و ترنسفورم روی آن اعمال می شود.\n",
        "<br>"
      ],
      "metadata": {
        "id": "GDeKjs-mWTiG"
      }
    },
    {
      "cell_type": "code",
      "source": [
        "transform = transforms.Compose([\n",
        "    transforms.Resize(256),\n",
        "    transforms.ToTensor(),\n",
        "    transforms.Normalize((0.5, 0.5, 0.5), (0.5, 0.5, 0.5))\n",
        "])\n",
        "\n",
        "# Load the CIFAR-10 dataset\n",
        "train_dataset = CIFAR10(root='./data', train=True, download=True, transform=transform)\n",
        "test_dataset = CIFAR10(root='./data', train=False, download=True, transform=transform)\n",
        "\n",
        "# Select a subset of classes\n",
        "selected_classes = [0, 1]\n",
        "train_filtered_indices = [i for i in range(len(train_dataset)) if train_dataset.targets[i] in selected_classes]\n",
        "test_filtered_indices = [i for i in range(len(test_dataset)) if test_dataset.targets[i] in selected_classes]\n",
        "\n",
        "subset_train_dataset = torch.utils.data.Subset(train_dataset, train_filtered_indices)\n",
        "subset_test_dataset = torch.utils.data.Subset(test_dataset, test_filtered_indices)\n"
      ],
      "metadata": {
        "colab": {
          "base_uri": "https://localhost:8080/"
        },
        "id": "WUsoqwwPC8I4",
        "outputId": "fbbdc499-d5e5-46c7-da11-be78b4f93ac5"
      },
      "execution_count": null,
      "outputs": [
        {
          "output_type": "stream",
          "name": "stdout",
          "text": [
            "Downloading https://www.cs.toronto.edu/~kriz/cifar-10-python.tar.gz to ./data/cifar-10-python.tar.gz\n"
          ]
        },
        {
          "output_type": "stream",
          "name": "stderr",
          "text": [
            "100%|██████████| 170498071/170498071 [00:02<00:00, 69395699.59it/s]\n"
          ]
        },
        {
          "output_type": "stream",
          "name": "stdout",
          "text": [
            "Extracting ./data/cifar-10-python.tar.gz to ./data\n",
            "Files already downloaded and verified\n"
          ]
        }
      ]
    },
    {
      "cell_type": "markdown",
      "source": [
        "<div dir=\"rtl\" style=\"text-align: justify\"><font face=\"B Nazanin\" size=4>\n",
        "این کلاس \"TripletDataset\" برای ساخت یک مجموعه داده از سه‌تایی‌ها (Triplet) بر اساس یک مجموعه دادهٔ پایه ایجاد شده است. هر سه‌تایی شامل سه نمونه از مجموعه داده است:\n",
        "\n",
        "1. \"Anchor\": یک نمونه انتخاب شده به عنوان نقطهٔ مرجع.\n",
        "2. \"Positive\": یک نمونه انتخاب شده از همان دستهٔ برچسبی که \"Anchor\" از آن انتخاب شده است.\n",
        "3. \"Negative\": یک نمونه انتخاب شده از یک دستهٔ برچسبی متفاوت از \"Anchor\".\n",
        "\n",
        "در واقعیت، این کلاس تصادفی یک نمونه \"Anchor\" را انتخاب کرده و سپس یک نمونه \"Positive\" از همان دستهٔ برچسبی که \"Anchor\" انتخاب شده است و یک نمونه \"Negative\" از یک دستهٔ برچسبی متفاوت انتخاب می‌کند. این عملیات به تناوب برای تمام نمونه‌های موجود در مجموعه داده اجرا می‌شود.\n",
        "پ\n",
        "<br>"
      ],
      "metadata": {
        "id": "vrtLtFtDWUz9"
      }
    },
    {
      "cell_type": "code",
      "source": [
        "class TripletDataset(Dataset):\n",
        "    def __init__(self, base_dataset):\n",
        "        self.base_dataset = base_dataset\n",
        "        self.labels = np.array(self.base_dataset.dataset.targets)\n",
        "        self.label_to_indices = {label: np.where(self.labels == label)[0] for label in self.labels}\n",
        "\n",
        "    def __getitem__(self, index):\n",
        "        target = np.random.choice(self.labels)\n",
        "        positive_index = index\n",
        "        while positive_index == index:\n",
        "            positive_index = np.random.choice(self.label_to_indices[target])\n",
        "        negative_target = np.random.choice(list(set(self.labels) - {target}))\n",
        "        negative_index = np.random.choice(self.label_to_indices[negative_target])\n",
        "        anchor = self.base_dataset.dataset[index][0]\n",
        "        positive = self.base_dataset.dataset[positive_index][0]\n",
        "        negative = self.base_dataset.dataset[negative_index][0]\n",
        "        return anchor, positive, negative\n",
        "\n",
        "    def __len__(self):\n",
        "        return len(self.base_dataset)"
      ],
      "metadata": {
        "id": "VjyaTMUgC_u1"
      },
      "execution_count": null,
      "outputs": []
    },
    {
      "cell_type": "markdown",
      "source": [
        "<div dir=\"rtl\" style=\"text-align: justify\"><font face=\"B Nazanin\" size=4>\n",
        "اد کردن دیتالودر کلی و دیتا لودر triplet\n",
        "<br>"
      ],
      "metadata": {
        "id": "xQVfAEa_gjxJ"
      }
    },
    {
      "cell_type": "code",
      "source": [
        "triplet_train_dataset = TripletDataset(subset_train_dataset)\n",
        "triplet_test_dataset = TripletDataset(subset_test_dataset)\n",
        "\n",
        "triplet_train_loader = DataLoader(triplet_train_dataset, batch_size=64, shuffle=True)\n",
        "triplet_test_loader = DataLoader(triplet_test_dataset, batch_size=64, shuffle=False)\n",
        "\n",
        "\n",
        "classifier_train_dataset = torch.utils.data.Subset(train_dataset, train_filtered_indices)\n",
        "classifier_test_dataset = torch.utils.data.Subset(test_dataset, test_filtered_indices)\n",
        "\n",
        "classifier_train_loader = DataLoader(classifier_train_dataset, batch_size=128, shuffle=True)\n",
        "classifier_test_loader = DataLoader(classifier_test_dataset, batch_size=128, shuffle=False)"
      ],
      "metadata": {
        "id": "6qwrSFeEDChv"
      },
      "execution_count": null,
      "outputs": []
    },
    {
      "cell_type": "code",
      "source": [
        "device = torch.device(\"cuda\" if torch.cuda.is_available() else \"cpu\")\n",
        "torch.manual_seed(42)\n",
        "print(device)"
      ],
      "metadata": {
        "id": "6Fu-4ezJDXej"
      },
      "execution_count": null,
      "outputs": []
    },
    {
      "cell_type": "markdown",
      "source": [
        "<div dir=\"rtl\" style=\"text-align: justify\"><font face=\"B Nazanin\" size=4>\n",
        "مدل alexnet\n",
        "<br>"
      ],
      "metadata": {
        "id": "ywTU3Z3Wgxp_"
      }
    },
    {
      "cell_type": "code",
      "source": [
        "alexnet = models.alexnet(pretrained=True)\n",
        "alexnet.to(device)\n"
      ],
      "metadata": {
        "colab": {
          "base_uri": "https://localhost:8080/"
        },
        "id": "QWDNoGIGDagn",
        "outputId": "097c693d-6898-4770-9e1d-1efa16f33be3"
      },
      "execution_count": null,
      "outputs": [
        {
          "output_type": "stream",
          "name": "stderr",
          "text": [
            "/usr/local/lib/python3.10/dist-packages/torchvision/models/_utils.py:208: UserWarning: The parameter 'pretrained' is deprecated since 0.13 and may be removed in the future, please use 'weights' instead.\n",
            "  warnings.warn(\n",
            "/usr/local/lib/python3.10/dist-packages/torchvision/models/_utils.py:223: UserWarning: Arguments other than a weight enum or `None` for 'weights' are deprecated since 0.13 and may be removed in the future. The current behavior is equivalent to passing `weights=AlexNet_Weights.IMAGENET1K_V1`. You can also use `weights=AlexNet_Weights.DEFAULT` to get the most up-to-date weights.\n",
            "  warnings.warn(msg)\n",
            "Downloading: \"https://download.pytorch.org/models/alexnet-owt-7be5be79.pth\" to /root/.cache/torch/hub/checkpoints/alexnet-owt-7be5be79.pth\n",
            "100%|██████████| 233M/233M [00:01<00:00, 133MB/s]\n"
          ]
        },
        {
          "output_type": "execute_result",
          "data": {
            "text/plain": [
              "AlexNet(\n",
              "  (features): Sequential(\n",
              "    (0): Conv2d(3, 64, kernel_size=(11, 11), stride=(4, 4), padding=(2, 2))\n",
              "    (1): ReLU(inplace=True)\n",
              "    (2): MaxPool2d(kernel_size=3, stride=2, padding=0, dilation=1, ceil_mode=False)\n",
              "    (3): Conv2d(64, 192, kernel_size=(5, 5), stride=(1, 1), padding=(2, 2))\n",
              "    (4): ReLU(inplace=True)\n",
              "    (5): MaxPool2d(kernel_size=3, stride=2, padding=0, dilation=1, ceil_mode=False)\n",
              "    (6): Conv2d(192, 384, kernel_size=(3, 3), stride=(1, 1), padding=(1, 1))\n",
              "    (7): ReLU(inplace=True)\n",
              "    (8): Conv2d(384, 256, kernel_size=(3, 3), stride=(1, 1), padding=(1, 1))\n",
              "    (9): ReLU(inplace=True)\n",
              "    (10): Conv2d(256, 256, kernel_size=(3, 3), stride=(1, 1), padding=(1, 1))\n",
              "    (11): ReLU(inplace=True)\n",
              "    (12): MaxPool2d(kernel_size=3, stride=2, padding=0, dilation=1, ceil_mode=False)\n",
              "  )\n",
              "  (avgpool): AdaptiveAvgPool2d(output_size=(6, 6))\n",
              "  (classifier): Sequential(\n",
              "    (0): Dropout(p=0.5, inplace=False)\n",
              "    (1): Linear(in_features=9216, out_features=4096, bias=True)\n",
              "    (2): ReLU(inplace=True)\n",
              "    (3): Dropout(p=0.5, inplace=False)\n",
              "    (4): Linear(in_features=4096, out_features=4096, bias=True)\n",
              "    (5): ReLU(inplace=True)\n",
              "    (6): Linear(in_features=4096, out_features=1000, bias=True)\n",
              "  )\n",
              ")"
            ]
          },
          "metadata": {},
          "execution_count": 6
        }
      ]
    },
    {
      "cell_type": "markdown",
      "source": [
        "<div dir=\"rtl\" style=\"text-align: justify\"><font face=\"B Nazanin\" size=4>\n",
        "شخصی سازی کردن مدل alexnet و تعریف توابع loss برای triplet , classifier\n",
        "<br>"
      ],
      "metadata": {
        "id": "pIM90CUAg0KR"
      }
    },
    {
      "cell_type": "code",
      "source": [
        "num_classes_cifar = 2\n",
        "alexnet.classifier[-1] = nn.Linear(4096, num_classes_cifar)\n",
        "\n",
        "# Define the triplet loss criterion\n",
        "triplet_criterion = nn.TripletMarginLoss(margin=0.2)\n",
        "\n",
        "# Define the classification loss criterion\n",
        "classifier_criterion = nn.CrossEntropyLoss()\n",
        "\n",
        "# Define the optimizer\n",
        "optimizer = optim.SGD(alexnet.parameters(), lr=0.001)"
      ],
      "metadata": {
        "id": "4t4BHrKBDbH0"
      },
      "execution_count": null,
      "outputs": []
    },
    {
      "cell_type": "markdown",
      "source": [
        "<div dir=\"rtl\" style=\"text-align: justify\"><font face=\"B Nazanin\" size=4>\n",
        "در این قسمت کلاسی جهت پیاده سازی لاس ترکیبی نوشته می شود.\n",
        "بدین صورت که لاس کلی جمع لاس triplet و لاس classifier است.\n",
        "<br>"
      ],
      "metadata": {
        "id": "wCfDdnbkg75G"
      }
    },
    {
      "cell_type": "code",
      "source": [
        "class CombinedLoss(nn.Module):\n",
        "    def __init__(self, triplet_criterion, classifier_criterion):\n",
        "        super(CombinedLoss, self).__init__()\n",
        "        self.triplet_criterion = triplet_criterion\n",
        "        self.classifier_criterion = classifier_criterion\n",
        "\n",
        "    def forward(self, anchor_output, positive_output, negative_output, classifier_output, labels):\n",
        "        # Calculate triplet loss\n",
        "        triplet_loss = self.triplet_criterion(anchor_output, positive_output, negative_output)\n",
        "\n",
        "        # Calculate classification loss\n",
        "        classifier_loss = self.classifier_criterion(classifier_output, labels)\n",
        "\n",
        "        # Combine both losses\n",
        "        total_loss = triplet_loss + classifier_loss\n",
        "\n",
        "        return total_loss\n"
      ],
      "metadata": {
        "id": "ijgd6i6ADfAS"
      },
      "execution_count": null,
      "outputs": []
    },
    {
      "cell_type": "code",
      "source": [
        "combined_criterion = CombinedLoss(triplet_criterion, classifier_criterion)\n"
      ],
      "metadata": {
        "id": "s71qvtfaDgwU"
      },
      "execution_count": null,
      "outputs": []
    },
    {
      "cell_type": "markdown",
      "source": [
        "<div dir=\"rtl\" style=\"text-align: justify\"><font face=\"B Nazanin\" size=4>\n",
        "در این قسمت تابعی جهت ترین کردن نوشته می شود. به گونه ای که به ازای positive , negative , anchor تولید شده نتیجه حاصل می شود. سپس تابع loss روی تمام دیتا بسته می شود.\n",
        "\n",
        "در نهایت تست نیز به همین ترتیب انجام می شود.\n",
        "\n",
        "<br>"
      ],
      "metadata": {
        "id": "ftyE5VjxlaeY"
      }
    },
    {
      "cell_type": "code",
      "source": [
        "def train_combined_model(model, combined_criterion, optimizer, triplet_train_loader, classifier_train_loader, triplet_test_loader, classifier_test_loader, device, num_epochs=10):\n",
        "    model.train()\n",
        "    total_loss_list = []\n",
        "    accuracy_list = []\n",
        "    loss_list = []\n",
        "    val_accuracy_list = []\n",
        "    train_accuracy_list = []\n",
        "    for epoch in range(num_epochs):\n",
        "        total_loss = 0.0\n",
        "        total_loss = 0.0\n",
        "        correct_train = 0\n",
        "        total_train = 0\n",
        "\n",
        "        for (anchor, positive, negative), (images, labels) in zip(triplet_train_loader, classifier_train_loader):\n",
        "            anchor, positive, negative, images, labels = anchor.to(device), positive.to(device), negative.to(device), images.to(device), labels.to(device)\n",
        "\n",
        "            optimizer.zero_grad()\n",
        "\n",
        "            # Forward pass for triplet loss\n",
        "            anchor_output = model(anchor)\n",
        "            positive_output = model(positive)\n",
        "            negative_output = model(negative)\n",
        "\n",
        "            # Forward pass for classification\n",
        "            classifier_output = model(images)\n",
        "\n",
        "            # Calculate combined loss\n",
        "            loss = combined_criterion(anchor_output, positive_output, negative_output, classifier_output, labels)\n",
        "\n",
        "            # Backward and optimize\n",
        "            loss.backward()\n",
        "            optimizer.step()\n",
        "\n",
        "            total_loss += loss.item()\n",
        "\n",
        "            _, predicted = torch.max(classifier_output.data, 1)\n",
        "            total_train += labels.size(0)\n",
        "            correct_train += (predicted == labels).sum().item()\n",
        "\n",
        "        average_loss = total_loss / len(classifier_train_loader)\n",
        "        train_accuracy = correct_train / total_train\n",
        "        train_accuracy_list.append(train_accuracy)\n",
        "        # Validation\n",
        "        model.eval()\n",
        "        correct_val = 0\n",
        "        total_val = 0\n",
        "\n",
        "        with torch.no_grad():\n",
        "            for images, labels in classifier_test_loader:\n",
        "                images, labels = images.to(device), labels.to(device)\n",
        "                outputs = model(images)\n",
        "\n",
        "                _, predicted = torch.max(outputs.data, 1)\n",
        "                total_val += labels.size(0)\n",
        "                correct_val += (predicted == labels).sum().item()\n",
        "\n",
        "        val_accuracy = correct_val / total_val\n",
        "\n",
        "        val_accuracy_list.append(val_accuracy)\n",
        "        loss_list.append(average_loss)\n",
        "\n",
        "        print(f'Epoch [{epoch + 1}/{num_epochs}], '\n",
        "              f'Training Loss: {average_loss:.4f}, '\n",
        "              f'Training Accuracy: {train_accuracy:.4f}, '\n",
        "              f'Validation Accuracy: {val_accuracy:.4f}')\n",
        "    accuracy_list.append(train_accuracy)\n",
        "    accuracy_list.append(val_accuracy)\n",
        "    print('Training finished.')\n",
        "\n",
        "    return total_loss_list, accuracy_list\n",
        "\n"
      ],
      "metadata": {
        "id": "lPjofL-tDiNn"
      },
      "execution_count": null,
      "outputs": []
    },
    {
      "cell_type": "markdown",
      "source": [
        "<div dir=\"rtl\" style=\"text-align: justify\"><font face=\"B Nazanin\" size=4>\n",
        "در این قسمت تابع ترین ترکیبی فراخوانی شده شده و نتایج بدست می آید.\n",
        "<br>"
      ],
      "metadata": {
        "id": "KYlrZA3el3N8"
      }
    },
    {
      "cell_type": "code",
      "source": [
        "# Assume you have already defined your model, criterion, optimizer, and data loaders\n",
        "\n",
        "total_loss_list, accuracy_list = train_combined_model(\n",
        "    alexnet,\n",
        "    combined_criterion,\n",
        "    optimizer,\n",
        "    triplet_train_loader,\n",
        "    classifier_train_loader,\n",
        "    triplet_test_loader,\n",
        "    classifier_test_loader,\n",
        "    device,\n",
        "    num_epochs=100\n",
        ")\n",
        "\n"
      ],
      "metadata": {
        "colab": {
          "base_uri": "https://localhost:8080/"
        },
        "id": "A-OoDNUyD2e-",
        "outputId": "5b42acac-f6a9-42f0-fb77-66a5d502b9d7"
      },
      "execution_count": null,
      "outputs": [
        {
          "output_type": "stream",
          "name": "stdout",
          "text": [
            "Epoch [1/100], Training Loss: 3.0771, Training Accuracy: 0.6135, Validation Accuracy: 0.8110\n",
            "Epoch [2/100], Training Loss: 1.1283, Training Accuracy: 0.7968, Validation Accuracy: 0.8025\n",
            "Epoch [3/100], Training Loss: 0.9698, Training Accuracy: 0.8218, Validation Accuracy: 0.8545\n",
            "Epoch [4/100], Training Loss: 0.9240, Training Accuracy: 0.8273, Validation Accuracy: 0.8340\n",
            "Epoch [5/100], Training Loss: 0.8674, Training Accuracy: 0.8495, Validation Accuracy: 0.8355\n",
            "Epoch [6/100], Training Loss: 0.8465, Training Accuracy: 0.8561, Validation Accuracy: 0.5880\n",
            "Epoch [7/100], Training Loss: 0.8275, Training Accuracy: 0.8453, Validation Accuracy: 0.5510\n",
            "Epoch [8/100], Training Loss: 0.7812, Training Accuracy: 0.8777, Validation Accuracy: 0.9025\n",
            "Epoch [9/100], Training Loss: 0.7727, Training Accuracy: 0.8707, Validation Accuracy: 0.8995\n",
            "Epoch [10/100], Training Loss: 0.7388, Training Accuracy: 0.8891, Validation Accuracy: 0.6420\n",
            "Epoch [11/100], Training Loss: 0.7401, Training Accuracy: 0.8743, Validation Accuracy: 0.7650\n",
            "Epoch [12/100], Training Loss: 0.7433, Training Accuracy: 0.8732, Validation Accuracy: 0.9265\n",
            "Epoch [13/100], Training Loss: 0.6965, Training Accuracy: 0.9090, Validation Accuracy: 0.9265\n",
            "Epoch [14/100], Training Loss: 0.7067, Training Accuracy: 0.8898, Validation Accuracy: 0.5990\n",
            "Epoch [15/100], Training Loss: 0.7031, Training Accuracy: 0.8854, Validation Accuracy: 0.9095\n",
            "Epoch [16/100], Training Loss: 0.6992, Training Accuracy: 0.8954, Validation Accuracy: 0.9145\n",
            "Epoch [17/100], Training Loss: 0.6898, Training Accuracy: 0.8886, Validation Accuracy: 0.9315\n",
            "Epoch [18/100], Training Loss: 0.6666, Training Accuracy: 0.9079, Validation Accuracy: 0.9020\n",
            "Epoch [19/100], Training Loss: 0.6577, Training Accuracy: 0.9172, Validation Accuracy: 0.9315\n",
            "Epoch [20/100], Training Loss: 0.6642, Training Accuracy: 0.9037, Validation Accuracy: 0.8250\n",
            "Epoch [21/100], Training Loss: 0.6337, Training Accuracy: 0.9205, Validation Accuracy: 0.8445\n",
            "Epoch [22/100], Training Loss: 0.6463, Training Accuracy: 0.9238, Validation Accuracy: 0.8580\n",
            "Epoch [23/100], Training Loss: 0.6391, Training Accuracy: 0.9197, Validation Accuracy: 0.8810\n",
            "Epoch [24/100], Training Loss: 0.6431, Training Accuracy: 0.9241, Validation Accuracy: 0.9265\n",
            "Epoch [25/100], Training Loss: 0.6162, Training Accuracy: 0.9366, Validation Accuracy: 0.6405\n",
            "Epoch [26/100], Training Loss: 0.6224, Training Accuracy: 0.9318, Validation Accuracy: 0.9375\n",
            "Epoch [27/100], Training Loss: 0.6051, Training Accuracy: 0.9426, Validation Accuracy: 0.9580\n",
            "Epoch [28/100], Training Loss: 0.6193, Training Accuracy: 0.9282, Validation Accuracy: 0.9085\n",
            "Epoch [29/100], Training Loss: 0.6057, Training Accuracy: 0.9459, Validation Accuracy: 0.9360\n",
            "Epoch [30/100], Training Loss: 0.6006, Training Accuracy: 0.9461, Validation Accuracy: 0.7290\n",
            "Epoch [31/100], Training Loss: 0.6055, Training Accuracy: 0.9336, Validation Accuracy: 0.8770\n",
            "Epoch [32/100], Training Loss: 0.6028, Training Accuracy: 0.9488, Validation Accuracy: 0.9110\n",
            "Epoch [33/100], Training Loss: 0.5908, Training Accuracy: 0.9461, Validation Accuracy: 0.8600\n",
            "Epoch [34/100], Training Loss: 0.5873, Training Accuracy: 0.9492, Validation Accuracy: 0.9635\n",
            "Epoch [35/100], Training Loss: 0.5840, Training Accuracy: 0.9454, Validation Accuracy: 0.8785\n",
            "Epoch [36/100], Training Loss: 0.5895, Training Accuracy: 0.9457, Validation Accuracy: 0.8705\n",
            "Epoch [37/100], Training Loss: 0.5752, Training Accuracy: 0.9507, Validation Accuracy: 0.9680\n",
            "Epoch [38/100], Training Loss: 0.5715, Training Accuracy: 0.9554, Validation Accuracy: 0.9685\n",
            "Epoch [39/100], Training Loss: 0.5855, Training Accuracy: 0.9493, Validation Accuracy: 0.9415\n",
            "Epoch [40/100], Training Loss: 0.5678, Training Accuracy: 0.9576, Validation Accuracy: 0.8610\n",
            "Epoch [41/100], Training Loss: 0.5750, Training Accuracy: 0.9517, Validation Accuracy: 0.9605\n",
            "Epoch [42/100], Training Loss: 0.5584, Training Accuracy: 0.9566, Validation Accuracy: 0.9345\n",
            "Epoch [43/100], Training Loss: 0.5706, Training Accuracy: 0.9582, Validation Accuracy: 0.9300\n",
            "Epoch [44/100], Training Loss: 0.5587, Training Accuracy: 0.9585, Validation Accuracy: 0.9480\n",
            "Epoch [45/100], Training Loss: 0.5697, Training Accuracy: 0.9588, Validation Accuracy: 0.8830\n",
            "Epoch [46/100], Training Loss: 0.5688, Training Accuracy: 0.9615, Validation Accuracy: 0.9135\n",
            "Epoch [47/100], Training Loss: 0.5601, Training Accuracy: 0.9548, Validation Accuracy: 0.9460\n",
            "Epoch [48/100], Training Loss: 0.5609, Training Accuracy: 0.9660, Validation Accuracy: 0.9325\n",
            "Epoch [49/100], Training Loss: 0.5582, Training Accuracy: 0.9662, Validation Accuracy: 0.9590\n",
            "Epoch [50/100], Training Loss: 0.5593, Training Accuracy: 0.9595, Validation Accuracy: 0.9675\n",
            "Epoch [51/100], Training Loss: 0.5419, Training Accuracy: 0.9671, Validation Accuracy: 0.9550\n",
            "Epoch [52/100], Training Loss: 0.5521, Training Accuracy: 0.9597, Validation Accuracy: 0.9715\n",
            "Epoch [53/100], Training Loss: 0.5455, Training Accuracy: 0.9637, Validation Accuracy: 0.9625\n",
            "Epoch [54/100], Training Loss: 0.5513, Training Accuracy: 0.9614, Validation Accuracy: 0.9105\n",
            "Epoch [55/100], Training Loss: 0.5389, Training Accuracy: 0.9648, Validation Accuracy: 0.9385\n",
            "Epoch [56/100], Training Loss: 0.5543, Training Accuracy: 0.9654, Validation Accuracy: 0.9715\n",
            "Epoch [57/100], Training Loss: 0.5434, Training Accuracy: 0.9687, Validation Accuracy: 0.8600\n",
            "Epoch [58/100], Training Loss: 0.5482, Training Accuracy: 0.9666, Validation Accuracy: 0.9740\n",
            "Epoch [59/100], Training Loss: 0.5402, Training Accuracy: 0.9690, Validation Accuracy: 0.9135\n",
            "Epoch [60/100], Training Loss: 0.5342, Training Accuracy: 0.9718, Validation Accuracy: 0.9220\n",
            "Epoch [61/100], Training Loss: 0.5337, Training Accuracy: 0.9663, Validation Accuracy: 0.9430\n",
            "Epoch [62/100], Training Loss: 0.5355, Training Accuracy: 0.9700, Validation Accuracy: 0.9745\n",
            "Epoch [63/100], Training Loss: 0.5448, Training Accuracy: 0.9657, Validation Accuracy: 0.9785\n",
            "Epoch [64/100], Training Loss: 0.5385, Training Accuracy: 0.9673, Validation Accuracy: 0.9410\n",
            "Epoch [65/100], Training Loss: 0.5398, Training Accuracy: 0.9710, Validation Accuracy: 0.9755\n",
            "Epoch [66/100], Training Loss: 0.5329, Training Accuracy: 0.9680, Validation Accuracy: 0.8060\n",
            "Epoch [67/100], Training Loss: 0.5257, Training Accuracy: 0.9699, Validation Accuracy: 0.8450\n",
            "Epoch [68/100], Training Loss: 0.5365, Training Accuracy: 0.9696, Validation Accuracy: 0.9720\n",
            "Epoch [69/100], Training Loss: 0.5391, Training Accuracy: 0.9730, Validation Accuracy: 0.9285\n",
            "Epoch [70/100], Training Loss: 0.5394, Training Accuracy: 0.9690, Validation Accuracy: 0.9600\n",
            "Epoch [71/100], Training Loss: 0.5316, Training Accuracy: 0.9736, Validation Accuracy: 0.9685\n",
            "Epoch [72/100], Training Loss: 0.5302, Training Accuracy: 0.9676, Validation Accuracy: 0.9720\n",
            "Epoch [73/100], Training Loss: 0.5292, Training Accuracy: 0.9735, Validation Accuracy: 0.8385\n",
            "Epoch [74/100], Training Loss: 0.5368, Training Accuracy: 0.9737, Validation Accuracy: 0.8805\n",
            "Epoch [75/100], Training Loss: 0.5363, Training Accuracy: 0.9747, Validation Accuracy: 0.9575\n",
            "Epoch [76/100], Training Loss: 0.5198, Training Accuracy: 0.9743, Validation Accuracy: 0.9700\n",
            "Epoch [77/100], Training Loss: 0.5186, Training Accuracy: 0.9756, Validation Accuracy: 0.9525\n",
            "Epoch [78/100], Training Loss: 0.5305, Training Accuracy: 0.9748, Validation Accuracy: 0.9415\n",
            "Epoch [79/100], Training Loss: 0.5181, Training Accuracy: 0.9747, Validation Accuracy: 0.9365\n",
            "Epoch [80/100], Training Loss: 0.5286, Training Accuracy: 0.9738, Validation Accuracy: 0.9055\n",
            "Epoch [81/100], Training Loss: 0.5206, Training Accuracy: 0.9728, Validation Accuracy: 0.9460\n",
            "Epoch [82/100], Training Loss: 0.5226, Training Accuracy: 0.9761, Validation Accuracy: 0.9665\n",
            "Epoch [83/100], Training Loss: 0.5151, Training Accuracy: 0.9768, Validation Accuracy: 0.9775\n",
            "Epoch [84/100], Training Loss: 0.5254, Training Accuracy: 0.9773, Validation Accuracy: 0.9680\n",
            "Epoch [85/100], Training Loss: 0.5095, Training Accuracy: 0.9762, Validation Accuracy: 0.9670\n",
            "Epoch [86/100], Training Loss: 0.5158, Training Accuracy: 0.9758, Validation Accuracy: 0.9735\n",
            "Epoch [87/100], Training Loss: 0.5158, Training Accuracy: 0.9756, Validation Accuracy: 0.9780\n",
            "Epoch [88/100], Training Loss: 0.5217, Training Accuracy: 0.9787, Validation Accuracy: 0.8915\n",
            "Epoch [89/100], Training Loss: 0.5298, Training Accuracy: 0.9771, Validation Accuracy: 0.9700\n",
            "Epoch [90/100], Training Loss: 0.5238, Training Accuracy: 0.9753, Validation Accuracy: 0.7165\n",
            "Epoch [91/100], Training Loss: 0.5301, Training Accuracy: 0.9738, Validation Accuracy: 0.9720\n",
            "Epoch [92/100], Training Loss: 0.5169, Training Accuracy: 0.9792, Validation Accuracy: 0.8515\n",
            "Epoch [93/100], Training Loss: 0.5103, Training Accuracy: 0.9798, Validation Accuracy: 0.9700\n",
            "Epoch [94/100], Training Loss: 0.5219, Training Accuracy: 0.9811, Validation Accuracy: 0.9735\n",
            "Epoch [95/100], Training Loss: 0.5087, Training Accuracy: 0.9814, Validation Accuracy: 0.9775\n",
            "Epoch [96/100], Training Loss: 0.5061, Training Accuracy: 0.9813, Validation Accuracy: 0.9480\n",
            "Epoch [97/100], Training Loss: 0.5138, Training Accuracy: 0.9775, Validation Accuracy: 0.9690\n",
            "Epoch [98/100], Training Loss: 0.5032, Training Accuracy: 0.9807, Validation Accuracy: 0.9755\n",
            "Epoch [99/100], Training Loss: 0.5187, Training Accuracy: 0.9806, Validation Accuracy: 0.9690\n",
            "Epoch [100/100], Training Loss: 0.5238, Training Accuracy: 0.9816, Validation Accuracy: 0.9265\n",
            "Training finished.\n"
          ]
        }
      ]
    },
    {
      "cell_type": "markdown",
      "source": [
        "<div dir=\"rtl\" style=\"text-align: justify\"><font face=\"B Nazanin\" size=4>\n",
        "در نهایت به ازای نتایج بدست آمده نمودار های مربوطه رسم می شود.\n",
        "\n",
        "نکته : validation acc همان نتیجه دقت تست است.\n",
        "توجه شود نوسان موجود در دقت تست ، می تواند با تنظیم learning rate برطرف شود.\n",
        "<br>"
      ],
      "metadata": {
        "id": "y2jzBjO9mEmf"
      }
    },
    {
      "cell_type": "code",
      "source": [
        "# Plot the training loss and validation accuracy over epochs\n",
        "import matplotlib.pyplot as plt\n",
        "fig, ax1 = plt.subplots()\n",
        "\n",
        "color = 'tab:red'\n",
        "ax1.set_xlabel('Epoch')\n",
        "ax1.set_ylabel('Total Loss', color=color)\n",
        "ax1.plot(range(1, 101), total_loss_list, color=color)\n",
        "ax1.tick_params(axis='y', labelcolor=color)\n",
        "\n",
        "# Add training accuracy to the plot\n",
        "ax2 = ax1.twinx()\n",
        "color = 'tab:green'\n",
        "ax2.spines['right'].set_position(('outward', 60))\n",
        "ax2.set_ylabel('Training Accuracy', color=color)\n",
        "ax2.plot(range(1, 101), accuracy_list[0], color=color)\n",
        "ax2.tick_params(axis='y', labelcolor=color)\n",
        "\n",
        "ax3 = ax1.twinx()\n",
        "color = 'tab:blue'\n",
        "ax3.set_ylabel('Validation Accuracy', color=color)\n",
        "ax3.plot(range(1, 101), accuracy_list[1], color=color)\n",
        "ax3.tick_params(axis='y', labelcolor=color)\n",
        "fig.tight_layout()\n",
        "plt.show()\n"
      ],
      "metadata": {
        "id": "7pism3npFO4S",
        "colab": {
          "base_uri": "https://localhost:8080/",
          "height": 486
        },
        "outputId": "1b2772b3-cf1b-42ba-ec8d-ed955da0a8b0"
      },
      "execution_count": null,
      "outputs": [
        {
          "output_type": "display_data",
          "data": {
            "text/plain": [
              "<Figure size 640x480 with 3 Axes>"
            ],
            "image/png": "[encoded data removed]"
          },
          "metadata": {}
        }
      ]
    }
  ]
}